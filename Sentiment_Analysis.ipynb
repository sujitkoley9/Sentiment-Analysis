{
  "nbformat": 4,
  "nbformat_minor": 0,
  "metadata": {
    "colab": {
      "name": "Sentiment-Analysis.ipynb",
      "provenance": [],
      "include_colab_link": true
    },
    "kernelspec": {
      "name": "python3",
      "display_name": "Python 3"
    },
    "accelerator": "GPU"
  },
  "cells": [
    {
      "cell_type": "markdown",
      "metadata": {
        "id": "view-in-github",
        "colab_type": "text"
      },
      "source": [
        "<a href=\"https://colab.research.google.com/github/sujitkoley9/Sentiment-Analysis/blob/master/Sentiment_Analysis.ipynb\" target=\"_parent\"><img src=\"https://colab.research.google.com/assets/colab-badge.svg\" alt=\"Open In Colab\"/></a>"
      ]
    },
    {
      "cell_type": "markdown",
      "metadata": {
        "id": "EKt9nTjgFWI0",
        "colab_type": "text"
      },
      "source": [
        "<h1> <center>Sentiment Analysis </center> </h1>\n",
        "<b>Useful link: </b>\n",
        "\n",
        "\n",
        "1. https://www.analyticsvidhya.com/blog/2018/04/a-comprehensive-guide-to-understand-and-implement-text-classification-in-python/\n",
        "2. https://realpython.com/python-keras-text-classification/\n",
        "\n",
        "3. https://medium.com/jatana/report-on-text-classification-using-cnn-rnn-han-f0e887214d5f\n",
        "\n",
        "4. https://machinelearningmastery.com/use-word-embedding-layers-deep-learning-keras/\n"
      ]
    },
    {
      "cell_type": "markdown",
      "metadata": {
        "id": "N5Mbzt71IuXF",
        "colab_type": "text"
      },
      "source": [
        "# 1. **Importing packages**\n",
        "\n"
      ]
    },
    {
      "cell_type": "code",
      "metadata": {
        "id": "XKuhkGf7DkUo",
        "colab_type": "code",
        "colab": {}
      },
      "source": [
        "from datetime import date, timedelta,datetime\n",
        "import pandas as pd\n",
        "import matplotlib.pyplot as plt\n",
        "plt.style.use('ggplot')\n",
        "\n",
        "import numpy as np\n",
        "from nltk.corpus import stopwords,wordnet\n",
        "from nltk.stem import PorterStemmer\n",
        "from nltk.stem import WordNetLemmatizer\n",
        "from nltk import word_tokenize,pos_tag\n",
        "\n",
        "import gensim\n",
        "from gensim.test.utils import get_tmpfile\n",
        "from gensim.summarization import keywords\n",
        "\n",
        "from sklearn.model_selection import train_test_split\n",
        "from sklearn.model_selection import cross_val_score\n",
        "from sklearn.feature_extraction.text import TfidfVectorizer\n",
        "from sklearn.linear_model import LogisticRegression\n",
        "from sklearn.model_selection import GridSearchCV\n",
        "from sklearn import metrics\n",
        "from sklearn.model_selection import RandomizedSearchCV\n",
        "\n",
        "\n",
        "from tensorflow.keras.models import Sequential\n",
        "from tensorflow.keras import layers\n",
        "from tensorflow.keras.layers import Embedding, LSTM, Dense, Dropout\n",
        "from tensorflow.python.keras.preprocessing.sequence import pad_sequences\n",
        "from tensorflow.keras.layers import Dense, Embedding, LSTM, GRU\n",
        "from tensorflow.keras.layers import Embedding\n",
        "from tensorflow.keras.wrappers.scikit_learn import KerasClassifier"
      ],
      "execution_count": 0,
      "outputs": []
    },
    {
      "cell_type": "markdown",
      "metadata": {
        "id": "nV2ftSn9K0lJ",
        "colab_type": "text"
      },
      "source": [
        "# 2 . **Reading required files**"
      ]
    },
    {
      "cell_type": "code",
      "metadata": {
        "id": "rFCqPWO0LASj",
        "colab_type": "code",
        "colab": {}
      },
      "source": [
        "movie_df = pd.read_csv('amazon_cells_labelled.txt', names=['review', 'sentiment'],sep='\\t')"
      ],
      "execution_count": 0,
      "outputs": []
    },
    {
      "cell_type": "code",
      "metadata": {
        "id": "LIeJ6kXqW1D6",
        "colab_type": "code",
        "colab": {
          "base_uri": "https://localhost:8080/",
          "height": 54
        },
        "outputId": "0f4eb459-9182-4f52-e2a7-2166d4b19bcb"
      },
      "source": [
        ""
      ],
      "execution_count": 18,
      "outputs": [
        {
          "output_type": "execute_result",
          "data": {
            "text/plain": [
              "<1000x1847 sparse matrix of type '<class 'numpy.float64'>'\n",
              "\twith 9130 stored elements in Compressed Sparse Row format>"
            ]
          },
          "metadata": {
            "tags": []
          },
          "execution_count": 18
        }
      ]
    },
    {
      "cell_type": "markdown",
      "metadata": {
        "id": "EBTvNGDOXH1Z",
        "colab_type": "text"
      },
      "source": [
        "# 1. **Logistic Regression**\n"
      ]
    },
    {
      "cell_type": "code",
      "metadata": {
        "id": "1qXqwQG0XPcQ",
        "colab_type": "code",
        "colab": {
          "base_uri": "https://localhost:8080/",
          "height": 92
        },
        "outputId": "bd3bc665-f683-4216-b81e-76f6211289ce"
      },
      "source": [
        "# Cleaning the text\n",
        "X = movie_df['review']\n",
        "y = movie_df['sentiment']\n",
        "\n",
        "vectorizer = TfidfVectorizer(max_df =1.0,min_df=1,analyzer='word' )\n",
        "X = vectorizer.fit_transform(X)\n",
        "\n",
        "# train test split\n",
        "X_train, X_test, y_train, y_test = train_test_split(X, y, test_size=0.25, random_state=1000)\n",
        "\n",
        "classifier = LogisticRegression()\n",
        "classifier.fit(X_train, y_train)\n",
        "score = classifier.score(X_test, y_test)\n",
        "print(\"Accuracy:\", score)"
      ],
      "execution_count": 23,
      "outputs": [
        {
          "output_type": "stream",
          "text": [
            "Accuracy: 0.8\n"
          ],
          "name": "stdout"
        },
        {
          "output_type": "stream",
          "text": [
            "/usr/local/lib/python3.6/dist-packages/sklearn/linear_model/logistic.py:432: FutureWarning: Default solver will be changed to 'lbfgs' in 0.22. Specify a solver to silence this warning.\n",
            "  FutureWarning)\n"
          ],
          "name": "stderr"
        }
      ]
    },
    {
      "cell_type": "markdown",
      "metadata": {
        "id": "mf-ho4rDbEJe",
        "colab_type": "text"
      },
      "source": [
        "# 2. **Neural network without word embedding**\n"
      ]
    },
    {
      "cell_type": "code",
      "metadata": {
        "id": "j3flw2gzbLsr",
        "colab_type": "code",
        "colab": {
          "base_uri": "https://localhost:8080/",
          "height": 235
        },
        "outputId": "c7563272-88b4-4ed3-de8a-80271603abe0"
      },
      "source": [
        "# Cleaning the text\n",
        "X = movie_df['review']\n",
        "y = movie_df['sentiment']\n",
        "\n",
        "vectorizer = TfidfVectorizer(max_df =1.0,min_df=1,analyzer='word' )\n",
        "X = vectorizer.fit_transform(X)\n",
        "\n",
        "# train test split\n",
        "X_train, X_test, y_train, y_test = train_test_split(X, y, test_size=0.25, random_state=1000)\n",
        "\n",
        "# Neural Network \n",
        "classifier  = Sequential()\n",
        "classifier.add(Dense(10,input_shape=(X_train.shape[1],), activation = 'relu'))\n",
        "classifier.add(Dense(1, activation = 'sigmoid'))\n",
        "\n",
        "# model summary\n",
        "classifier.summary()"
      ],
      "execution_count": 33,
      "outputs": [
        {
          "output_type": "stream",
          "text": [
            "Model: \"sequential_9\"\n",
            "_________________________________________________________________\n",
            "Layer (type)                 Output Shape              Param #   \n",
            "=================================================================\n",
            "dense_16 (Dense)             (None, 10)                18480     \n",
            "_________________________________________________________________\n",
            "dense_17 (Dense)             (None, 1)                 11        \n",
            "=================================================================\n",
            "Total params: 18,491\n",
            "Trainable params: 18,491\n",
            "Non-trainable params: 0\n",
            "_________________________________________________________________\n"
          ],
          "name": "stdout"
        }
      ]
    },
    {
      "cell_type": "code",
      "metadata": {
        "id": "eXMAEjcddfQL",
        "colab_type": "code",
        "colab": {
          "base_uri": "https://localhost:8080/",
          "height": 1000
        },
        "outputId": "e10f4316-1d7b-4f8c-f799-02a9b4093156"
      },
      "source": [
        "# compile the model\n",
        "classifier.compile(loss='binary_crossentropy', \n",
        "              optimizer='adam', \n",
        "              metrics=['accuracy'])\n",
        "\n",
        "\n",
        "# Train the model\n",
        "history = classifier.fit(X_train, y_train,\n",
        "                    epochs=100,\n",
        "                    verbose=1 ,\n",
        "                    validation_data=(X_test, y_test),\n",
        "                    batch_size=X_train.shape[0])"
      ],
      "execution_count": 45,
      "outputs": [
        {
          "output_type": "stream",
          "text": [
            "WARNING:tensorflow:Falling back from v2 loop because of error: Failed to find data adapter that can handle input: <class 'scipy.sparse.csr.csr_matrix'>, <class 'NoneType'>\n",
            "Train on 750 samples, validate on 250 samples\n",
            "Epoch 1/100\n",
            "750/750 [==============================] - 0s 123us/sample - loss: 7.8678e-09 - accuracy: 1.0000 - val_loss: 1.1842 - val_accuracy: 0.7920\n",
            "Epoch 2/100\n",
            "750/750 [==============================] - 0s 15us/sample - loss: 7.6294e-09 - accuracy: 1.0000 - val_loss: 1.1819 - val_accuracy: 0.7920\n",
            "Epoch 3/100\n",
            "750/750 [==============================] - 0s 15us/sample - loss: 7.9473e-09 - accuracy: 1.0000 - val_loss: 1.1836 - val_accuracy: 0.7920\n",
            "Epoch 4/100\n",
            "750/750 [==============================] - 0s 15us/sample - loss: 8.1857e-09 - accuracy: 1.0000 - val_loss: 1.1831 - val_accuracy: 0.7920\n",
            "Epoch 5/100\n",
            "750/750 [==============================] - 0s 12us/sample - loss: 7.6294e-09 - accuracy: 1.0000 - val_loss: 1.1823 - val_accuracy: 0.7920\n",
            "Epoch 6/100\n",
            "750/750 [==============================] - 0s 12us/sample - loss: 7.0731e-09 - accuracy: 1.0000 - val_loss: 1.1831 - val_accuracy: 0.7920\n",
            "Epoch 7/100\n",
            "750/750 [==============================] - 0s 14us/sample - loss: 8.2652e-09 - accuracy: 1.0000 - val_loss: 1.1826 - val_accuracy: 0.7920\n",
            "Epoch 8/100\n",
            "750/750 [==============================] - 0s 14us/sample - loss: 6.5168e-09 - accuracy: 1.0000 - val_loss: 1.1829 - val_accuracy: 0.7920\n",
            "Epoch 9/100\n",
            "750/750 [==============================] - 0s 14us/sample - loss: 8.1062e-09 - accuracy: 1.0000 - val_loss: 1.1828 - val_accuracy: 0.7920\n",
            "Epoch 10/100\n",
            "750/750 [==============================] - 0s 15us/sample - loss: 7.9473e-09 - accuracy: 1.0000 - val_loss: 1.1832 - val_accuracy: 0.7920\n",
            "Epoch 11/100\n",
            "750/750 [==============================] - 0s 13us/sample - loss: 7.3115e-09 - accuracy: 1.0000 - val_loss: 1.1826 - val_accuracy: 0.7920\n",
            "Epoch 12/100\n",
            "750/750 [==============================] - 0s 12us/sample - loss: 8.2652e-09 - accuracy: 1.0000 - val_loss: 1.1836 - val_accuracy: 0.7920\n",
            "Epoch 13/100\n",
            "750/750 [==============================] - 0s 14us/sample - loss: 7.7089e-09 - accuracy: 1.0000 - val_loss: 1.1835 - val_accuracy: 0.7920\n",
            "Epoch 14/100\n",
            "750/750 [==============================] - 0s 15us/sample - loss: 7.9473e-09 - accuracy: 1.0000 - val_loss: 1.1839 - val_accuracy: 0.7920\n",
            "Epoch 15/100\n",
            "750/750 [==============================] - 0s 15us/sample - loss: 8.1062e-09 - accuracy: 1.0000 - val_loss: 1.1830 - val_accuracy: 0.7920\n",
            "Epoch 16/100\n",
            "750/750 [==============================] - 0s 15us/sample - loss: 7.8678e-09 - accuracy: 1.0000 - val_loss: 1.1831 - val_accuracy: 0.7920\n",
            "Epoch 17/100\n",
            "750/750 [==============================] - 0s 15us/sample - loss: 8.0268e-09 - accuracy: 1.0000 - val_loss: 1.1834 - val_accuracy: 0.7920\n",
            "Epoch 18/100\n",
            "750/750 [==============================] - 0s 16us/sample - loss: 7.8678e-09 - accuracy: 1.0000 - val_loss: 1.1826 - val_accuracy: 0.7920\n",
            "Epoch 19/100\n",
            "750/750 [==============================] - 0s 15us/sample - loss: 8.2652e-09 - accuracy: 1.0000 - val_loss: 1.1826 - val_accuracy: 0.7920\n",
            "Epoch 20/100\n",
            "750/750 [==============================] - 0s 16us/sample - loss: 7.7089e-09 - accuracy: 1.0000 - val_loss: 1.1834 - val_accuracy: 0.7920\n",
            "Epoch 21/100\n",
            "750/750 [==============================] - 0s 12us/sample - loss: 8.0268e-09 - accuracy: 1.0000 - val_loss: 1.1831 - val_accuracy: 0.7920\n",
            "Epoch 22/100\n",
            "750/750 [==============================] - 0s 20us/sample - loss: 7.5499e-09 - accuracy: 1.0000 - val_loss: 1.1822 - val_accuracy: 0.7920\n",
            "Epoch 23/100\n",
            "750/750 [==============================] - 0s 15us/sample - loss: 8.7420e-09 - accuracy: 1.0000 - val_loss: 1.1829 - val_accuracy: 0.7920\n",
            "Epoch 24/100\n",
            "750/750 [==============================] - 0s 15us/sample - loss: 7.3910e-09 - accuracy: 1.0000 - val_loss: 1.1842 - val_accuracy: 0.7920\n",
            "Epoch 25/100\n",
            "750/750 [==============================] - 0s 15us/sample - loss: 8.4241e-09 - accuracy: 1.0000 - val_loss: 1.1817 - val_accuracy: 0.7920\n",
            "Epoch 26/100\n",
            "750/750 [==============================] - 0s 18us/sample - loss: 8.1062e-09 - accuracy: 1.0000 - val_loss: 1.1837 - val_accuracy: 0.7920\n",
            "Epoch 27/100\n",
            "750/750 [==============================] - 0s 12us/sample - loss: 7.7883e-09 - accuracy: 1.0000 - val_loss: 1.1824 - val_accuracy: 0.7920\n",
            "Epoch 28/100\n",
            "750/750 [==============================] - 0s 17us/sample - loss: 7.5499e-09 - accuracy: 1.0000 - val_loss: 1.1835 - val_accuracy: 0.7920\n",
            "Epoch 29/100\n",
            "750/750 [==============================] - 0s 12us/sample - loss: 9.2983e-09 - accuracy: 1.0000 - val_loss: 1.1833 - val_accuracy: 0.7920\n",
            "Epoch 30/100\n",
            "750/750 [==============================] - 0s 13us/sample - loss: 7.4704e-09 - accuracy: 1.0000 - val_loss: 1.1829 - val_accuracy: 0.7920\n",
            "Epoch 31/100\n",
            "750/750 [==============================] - 0s 13us/sample - loss: 7.4704e-09 - accuracy: 1.0000 - val_loss: 1.1833 - val_accuracy: 0.7920\n",
            "Epoch 32/100\n",
            "750/750 [==============================] - 0s 15us/sample - loss: 8.5036e-09 - accuracy: 1.0000 - val_loss: 1.1830 - val_accuracy: 0.7920\n",
            "Epoch 33/100\n",
            "750/750 [==============================] - 0s 15us/sample - loss: 8.1062e-09 - accuracy: 1.0000 - val_loss: 1.1826 - val_accuracy: 0.7920\n",
            "Epoch 34/100\n",
            "750/750 [==============================] - 0s 15us/sample - loss: 7.8678e-09 - accuracy: 1.0000 - val_loss: 1.1833 - val_accuracy: 0.7920\n",
            "Epoch 35/100\n",
            "750/750 [==============================] - 0s 14us/sample - loss: 7.8678e-09 - accuracy: 1.0000 - val_loss: 1.1833 - val_accuracy: 0.7920\n",
            "Epoch 36/100\n",
            "750/750 [==============================] - 0s 16us/sample - loss: 6.9936e-09 - accuracy: 1.0000 - val_loss: 1.1846 - val_accuracy: 0.7920\n",
            "Epoch 37/100\n",
            "750/750 [==============================] - 0s 14us/sample - loss: 8.1857e-09 - accuracy: 1.0000 - val_loss: 1.1833 - val_accuracy: 0.7920\n",
            "Epoch 38/100\n",
            "750/750 [==============================] - 0s 18us/sample - loss: 7.4704e-09 - accuracy: 1.0000 - val_loss: 1.1816 - val_accuracy: 0.7920\n",
            "Epoch 39/100\n",
            "750/750 [==============================] - 0s 15us/sample - loss: 7.9473e-09 - accuracy: 1.0000 - val_loss: 1.1833 - val_accuracy: 0.7920\n",
            "Epoch 40/100\n",
            "750/750 [==============================] - 0s 15us/sample - loss: 7.4704e-09 - accuracy: 1.0000 - val_loss: 1.1836 - val_accuracy: 0.7920\n",
            "Epoch 41/100\n",
            "750/750 [==============================] - 0s 15us/sample - loss: 6.9936e-09 - accuracy: 1.0000 - val_loss: 1.1836 - val_accuracy: 0.7920\n",
            "Epoch 42/100\n",
            "750/750 [==============================] - 0s 15us/sample - loss: 8.6625e-09 - accuracy: 1.0000 - val_loss: 1.1837 - val_accuracy: 0.7920\n",
            "Epoch 43/100\n",
            "750/750 [==============================] - 0s 13us/sample - loss: 7.7089e-09 - accuracy: 1.0000 - val_loss: 1.1839 - val_accuracy: 0.7920\n",
            "Epoch 44/100\n",
            "750/750 [==============================] - 0s 15us/sample - loss: 8.1857e-09 - accuracy: 1.0000 - val_loss: 1.1839 - val_accuracy: 0.7920\n",
            "Epoch 45/100\n",
            "750/750 [==============================] - 0s 12us/sample - loss: 7.7089e-09 - accuracy: 1.0000 - val_loss: 1.1829 - val_accuracy: 0.7920\n",
            "Epoch 46/100\n",
            "750/750 [==============================] - 0s 17us/sample - loss: 7.9473e-09 - accuracy: 1.0000 - val_loss: 1.1840 - val_accuracy: 0.7920\n",
            "Epoch 47/100\n",
            "750/750 [==============================] - 0s 16us/sample - loss: 6.9936e-09 - accuracy: 1.0000 - val_loss: 1.1834 - val_accuracy: 0.7920\n",
            "Epoch 48/100\n",
            "750/750 [==============================] - 0s 27us/sample - loss: 8.1062e-09 - accuracy: 1.0000 - val_loss: 1.1832 - val_accuracy: 0.7920\n",
            "Epoch 49/100\n",
            "750/750 [==============================] - 0s 18us/sample - loss: 7.2320e-09 - accuracy: 1.0000 - val_loss: 1.1840 - val_accuracy: 0.7920\n",
            "Epoch 50/100\n",
            "750/750 [==============================] - 0s 13us/sample - loss: 8.1062e-09 - accuracy: 1.0000 - val_loss: 1.1838 - val_accuracy: 0.7920\n",
            "Epoch 51/100\n",
            "750/750 [==============================] - 0s 16us/sample - loss: 8.8215e-09 - accuracy: 1.0000 - val_loss: 1.1836 - val_accuracy: 0.7920\n",
            "Epoch 52/100\n",
            "750/750 [==============================] - 0s 14us/sample - loss: 7.8678e-09 - accuracy: 1.0000 - val_loss: 1.1839 - val_accuracy: 0.7920\n",
            "Epoch 53/100\n",
            "750/750 [==============================] - 0s 16us/sample - loss: 7.3910e-09 - accuracy: 1.0000 - val_loss: 1.1836 - val_accuracy: 0.7920\n",
            "Epoch 54/100\n",
            "750/750 [==============================] - 0s 14us/sample - loss: 8.3447e-09 - accuracy: 1.0000 - val_loss: 1.1830 - val_accuracy: 0.7920\n",
            "Epoch 55/100\n",
            "750/750 [==============================] - 0s 17us/sample - loss: 8.1857e-09 - accuracy: 1.0000 - val_loss: 1.1840 - val_accuracy: 0.7920\n",
            "Epoch 56/100\n",
            "750/750 [==============================] - 0s 13us/sample - loss: 8.3447e-09 - accuracy: 1.0000 - val_loss: 1.1838 - val_accuracy: 0.7920\n",
            "Epoch 57/100\n",
            "750/750 [==============================] - 0s 15us/sample - loss: 8.5036e-09 - accuracy: 1.0000 - val_loss: 1.1836 - val_accuracy: 0.7920\n",
            "Epoch 58/100\n",
            "750/750 [==============================] - 0s 15us/sample - loss: 7.4704e-09 - accuracy: 1.0000 - val_loss: 1.1833 - val_accuracy: 0.7920\n",
            "Epoch 59/100\n",
            "750/750 [==============================] - 0s 14us/sample - loss: 8.2652e-09 - accuracy: 1.0000 - val_loss: 1.1846 - val_accuracy: 0.7920\n",
            "Epoch 60/100\n",
            "750/750 [==============================] - 0s 18us/sample - loss: 7.4704e-09 - accuracy: 1.0000 - val_loss: 1.1837 - val_accuracy: 0.7920\n",
            "Epoch 61/100\n",
            "750/750 [==============================] - 0s 16us/sample - loss: 7.1526e-09 - accuracy: 1.0000 - val_loss: 1.1833 - val_accuracy: 0.7920\n",
            "Epoch 62/100\n",
            "750/750 [==============================] - 0s 12us/sample - loss: 7.7883e-09 - accuracy: 1.0000 - val_loss: 1.1841 - val_accuracy: 0.7920\n",
            "Epoch 63/100\n",
            "750/750 [==============================] - 0s 14us/sample - loss: 7.3115e-09 - accuracy: 1.0000 - val_loss: 1.1838 - val_accuracy: 0.7920\n",
            "Epoch 64/100\n",
            "750/750 [==============================] - 0s 17us/sample - loss: 7.3910e-09 - accuracy: 1.0000 - val_loss: 1.1827 - val_accuracy: 0.7920\n",
            "Epoch 65/100\n",
            "750/750 [==============================] - 0s 15us/sample - loss: 8.0268e-09 - accuracy: 1.0000 - val_loss: 1.1838 - val_accuracy: 0.7920\n",
            "Epoch 66/100\n",
            "750/750 [==============================] - 0s 18us/sample - loss: 7.9473e-09 - accuracy: 1.0000 - val_loss: 1.1841 - val_accuracy: 0.7920\n",
            "Epoch 67/100\n",
            "750/750 [==============================] - 0s 14us/sample - loss: 7.7883e-09 - accuracy: 1.0000 - val_loss: 1.1830 - val_accuracy: 0.7920\n",
            "Epoch 68/100\n",
            "750/750 [==============================] - 0s 15us/sample - loss: 7.7883e-09 - accuracy: 1.0000 - val_loss: 1.1838 - val_accuracy: 0.7920\n",
            "Epoch 69/100\n",
            "750/750 [==============================] - 0s 13us/sample - loss: 8.0268e-09 - accuracy: 1.0000 - val_loss: 1.1833 - val_accuracy: 0.7920\n",
            "Epoch 70/100\n",
            "750/750 [==============================] - 0s 15us/sample - loss: 8.1062e-09 - accuracy: 1.0000 - val_loss: 1.1833 - val_accuracy: 0.7920\n",
            "Epoch 71/100\n",
            "750/750 [==============================] - 0s 15us/sample - loss: 8.0268e-09 - accuracy: 1.0000 - val_loss: 1.1836 - val_accuracy: 0.7920\n",
            "Epoch 72/100\n",
            "750/750 [==============================] - 0s 16us/sample - loss: 8.1857e-09 - accuracy: 1.0000 - val_loss: 1.1834 - val_accuracy: 0.7920\n",
            "Epoch 73/100\n",
            "750/750 [==============================] - 0s 16us/sample - loss: 7.7089e-09 - accuracy: 1.0000 - val_loss: 1.1842 - val_accuracy: 0.7920\n",
            "Epoch 74/100\n",
            "750/750 [==============================] - 0s 13us/sample - loss: 7.7089e-09 - accuracy: 1.0000 - val_loss: 1.1831 - val_accuracy: 0.7920\n",
            "Epoch 75/100\n",
            "750/750 [==============================] - 0s 15us/sample - loss: 7.8678e-09 - accuracy: 1.0000 - val_loss: 1.1841 - val_accuracy: 0.7920\n",
            "Epoch 76/100\n",
            "750/750 [==============================] - 0s 21us/sample - loss: 8.1857e-09 - accuracy: 1.0000 - val_loss: 1.1829 - val_accuracy: 0.7920\n",
            "Epoch 77/100\n",
            "750/750 [==============================] - 0s 14us/sample - loss: 8.7420e-09 - accuracy: 1.0000 - val_loss: 1.1839 - val_accuracy: 0.7920\n",
            "Epoch 78/100\n",
            "750/750 [==============================] - 0s 15us/sample - loss: 8.3447e-09 - accuracy: 1.0000 - val_loss: 1.1831 - val_accuracy: 0.7920\n",
            "Epoch 79/100\n",
            "750/750 [==============================] - 0s 15us/sample - loss: 7.6294e-09 - accuracy: 1.0000 - val_loss: 1.1839 - val_accuracy: 0.7920\n",
            "Epoch 80/100\n",
            "750/750 [==============================] - 0s 14us/sample - loss: 6.4373e-09 - accuracy: 1.0000 - val_loss: 1.1841 - val_accuracy: 0.7920\n",
            "Epoch 81/100\n",
            "750/750 [==============================] - 0s 13us/sample - loss: 8.7420e-09 - accuracy: 1.0000 - val_loss: 1.1825 - val_accuracy: 0.7920\n",
            "Epoch 82/100\n",
            "750/750 [==============================] - 0s 15us/sample - loss: 7.9473e-09 - accuracy: 1.0000 - val_loss: 1.1839 - val_accuracy: 0.7920\n",
            "Epoch 83/100\n",
            "750/750 [==============================] - 0s 14us/sample - loss: 7.4704e-09 - accuracy: 1.0000 - val_loss: 1.1845 - val_accuracy: 0.7920\n",
            "Epoch 84/100\n",
            "750/750 [==============================] - 0s 15us/sample - loss: 7.2320e-09 - accuracy: 1.0000 - val_loss: 1.1838 - val_accuracy: 0.7920\n",
            "Epoch 85/100\n",
            "750/750 [==============================] - 0s 12us/sample - loss: 7.7089e-09 - accuracy: 1.0000 - val_loss: 1.1838 - val_accuracy: 0.7920\n",
            "Epoch 86/100\n",
            "750/750 [==============================] - 0s 13us/sample - loss: 7.3115e-09 - accuracy: 1.0000 - val_loss: 1.1837 - val_accuracy: 0.7920\n",
            "Epoch 87/100\n",
            "750/750 [==============================] - 0s 14us/sample - loss: 7.3115e-09 - accuracy: 1.0000 - val_loss: 1.1832 - val_accuracy: 0.7920\n",
            "Epoch 88/100\n",
            "750/750 [==============================] - 0s 15us/sample - loss: 6.9936e-09 - accuracy: 1.0000 - val_loss: 1.1832 - val_accuracy: 0.7920\n",
            "Epoch 89/100\n",
            "750/750 [==============================] - 0s 15us/sample - loss: 8.1857e-09 - accuracy: 1.0000 - val_loss: 1.1832 - val_accuracy: 0.7920\n",
            "Epoch 90/100\n",
            "750/750 [==============================] - 0s 13us/sample - loss: 7.7883e-09 - accuracy: 1.0000 - val_loss: 1.1832 - val_accuracy: 0.7920\n",
            "Epoch 91/100\n",
            "750/750 [==============================] - 0s 14us/sample - loss: 7.6294e-09 - accuracy: 1.0000 - val_loss: 1.1846 - val_accuracy: 0.7920\n",
            "Epoch 92/100\n",
            "750/750 [==============================] - 0s 19us/sample - loss: 8.9010e-09 - accuracy: 1.0000 - val_loss: 1.1841 - val_accuracy: 0.7920\n",
            "Epoch 93/100\n",
            "750/750 [==============================] - 0s 14us/sample - loss: 8.1062e-09 - accuracy: 1.0000 - val_loss: 1.1843 - val_accuracy: 0.7920\n",
            "Epoch 94/100\n",
            "750/750 [==============================] - 0s 13us/sample - loss: 7.3115e-09 - accuracy: 1.0000 - val_loss: 1.1840 - val_accuracy: 0.7920\n",
            "Epoch 95/100\n",
            "750/750 [==============================] - 0s 16us/sample - loss: 8.2652e-09 - accuracy: 1.0000 - val_loss: 1.1841 - val_accuracy: 0.7920\n",
            "Epoch 96/100\n",
            "750/750 [==============================] - 0s 12us/sample - loss: 6.7552e-09 - accuracy: 1.0000 - val_loss: 1.1840 - val_accuracy: 0.7920\n",
            "Epoch 97/100\n",
            "750/750 [==============================] - 0s 15us/sample - loss: 7.9473e-09 - accuracy: 1.0000 - val_loss: 1.1841 - val_accuracy: 0.7920\n",
            "Epoch 98/100\n",
            "750/750 [==============================] - 0s 19us/sample - loss: 7.3910e-09 - accuracy: 1.0000 - val_loss: 1.1835 - val_accuracy: 0.7920\n",
            "Epoch 99/100\n",
            "750/750 [==============================] - 0s 17us/sample - loss: 8.2652e-09 - accuracy: 1.0000 - val_loss: 1.1837 - val_accuracy: 0.7920\n",
            "Epoch 100/100\n",
            "750/750 [==============================] - 0s 19us/sample - loss: 7.1526e-09 - accuracy: 1.0000 - val_loss: 1.1831 - val_accuracy: 0.7920\n"
          ],
          "name": "stdout"
        }
      ]
    },
    {
      "cell_type": "code",
      "metadata": {
        "id": "7YYSkKcRgEul",
        "colab_type": "code",
        "colab": {
          "base_uri": "https://localhost:8080/",
          "height": 74
        },
        "outputId": "d93b7e91-f0c2-4895-dab2-47c24ee50495"
      },
      "source": [
        "loss, accuracy = classifier.evaluate(X_test, y_test, verbose=False)\n",
        "print(\"Accuracy:\", accuracy)"
      ],
      "execution_count": 46,
      "outputs": [
        {
          "output_type": "stream",
          "text": [
            "WARNING:tensorflow:Falling back from v2 loop because of error: Failed to find data adapter that can handle input: <class 'scipy.sparse.csr.csr_matrix'>, <class 'NoneType'>\n",
            "Accuracy: 0.792\n"
          ],
          "name": "stdout"
        }
      ]
    }
  ]
}