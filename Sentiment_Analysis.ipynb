{
  "nbformat": 4,
  "nbformat_minor": 0,
  "metadata": {
    "colab": {
      "name": "Sentiment-Analysis.ipynb",
      "provenance": [],
      "collapsed_sections": [],
      "toc_visible": true,
      "include_colab_link": true
    },
    "kernelspec": {
      "name": "python3",
      "display_name": "Python 3"
    },
    "accelerator": "GPU"
  },
  "cells": [
    {
      "cell_type": "markdown",
      "metadata": {
        "id": "view-in-github",
        "colab_type": "text"
      },
      "source": [
        "<a href=\"https://colab.research.google.com/github/sujitkoley9/Sentiment-Analysis/blob/master/Sentiment_Analysis.ipynb\" target=\"_parent\"><img src=\"https://colab.research.google.com/assets/colab-badge.svg\" alt=\"Open In Colab\"/></a>"
      ]
    },
    {
      "cell_type": "markdown",
      "metadata": {
        "id": "EKt9nTjgFWI0",
        "colab_type": "text"
      },
      "source": [
        "<h1> <center>Sentiment Analysis </center> </h1>\n",
        "<b>Useful link: </b>\n",
        "\n",
        "\n",
        "1. https://www.analyticsvidhya.com/blog/2018/04/a-comprehensive-guide-to-understand-and-implement-text-classification-in-python/\n",
        "2. https://realpython.com/python-keras-text-classification/\n",
        "\n",
        "3. https://medium.com/jatana/report-on-text-classification-using-cnn-rnn-han-f0e887214d5f\n",
        "\n",
        "4. https://machinelearningmastery.com/use-word-embedding-layers-deep-learning-keras/\n"
      ]
    },
    {
      "cell_type": "markdown",
      "metadata": {
        "id": "N5Mbzt71IuXF",
        "colab_type": "text"
      },
      "source": [
        "# 1. **Importing packages**\n",
        "\n"
      ]
    },
    {
      "cell_type": "code",
      "metadata": {
        "id": "XKuhkGf7DkUo",
        "colab_type": "code",
        "colab": {}
      },
      "source": [
        "from datetime import date, timedelta,datetime\n",
        "import pandas as pd\n",
        "import matplotlib.pyplot as plt\n",
        "plt.style.use('ggplot')\n",
        "\n",
        "import numpy as np\n",
        "from nltk.corpus import stopwords,wordnet\n",
        "from nltk.stem import PorterStemmer\n",
        "from nltk.stem import WordNetLemmatizer\n",
        "from nltk import word_tokenize,pos_tag\n",
        "\n",
        "import gensim\n",
        "from gensim.test.utils import get_tmpfile\n",
        "from gensim.summarization import keywords\n",
        "\n",
        "from sklearn.model_selection import train_test_split\n",
        "from sklearn.model_selection import cross_val_score\n",
        "from sklearn.feature_extraction.text import TfidfVectorizer\n",
        "from sklearn.linear_model import LogisticRegression\n",
        "from sklearn.model_selection import GridSearchCV\n",
        "from sklearn import metrics\n",
        "from sklearn.model_selection import RandomizedSearchCV\n",
        "\n",
        "\n",
        "from tensorflow.keras.models import Sequential\n",
        "from keras.preprocessing.text import Tokenizer\n",
        "from tensorflow.keras import layers\n",
        "from tensorflow.keras.layers import Embedding, LSTM, Dense, Dropout,Flatten\n",
        "from tensorflow.python.keras.preprocessing.sequence import pad_sequences\n",
        "from tensorflow.keras.layers import Dense, Embedding, LSTM, GRU\n",
        "from tensorflow.keras.layers import Embedding\n",
        "from tensorflow.keras.wrappers.scikit_learn import KerasClassifier"
      ],
      "execution_count": 0,
      "outputs": []
    },
    {
      "cell_type": "markdown",
      "metadata": {
        "id": "nV2ftSn9K0lJ",
        "colab_type": "text"
      },
      "source": [
        "# 2 . **Reading required files**"
      ]
    },
    {
      "cell_type": "code",
      "metadata": {
        "id": "rFCqPWO0LASj",
        "colab_type": "code",
        "colab": {}
      },
      "source": [
        "movie_df = pd.read_csv('amazon_cells_labelled.txt', names=['review', 'sentiment'],sep='\\t')"
      ],
      "execution_count": 0,
      "outputs": []
    },
    {
      "cell_type": "markdown",
      "metadata": {
        "id": "EBTvNGDOXH1Z",
        "colab_type": "text"
      },
      "source": [
        "# 1. **Logistic Regression**\n"
      ]
    },
    {
      "cell_type": "code",
      "metadata": {
        "id": "1qXqwQG0XPcQ",
        "colab_type": "code",
        "outputId": "ffe38e8b-d914-4cc5-f096-e6e8a5ac74a8",
        "colab": {
          "base_uri": "https://localhost:8080/",
          "height": 92
        }
      },
      "source": [
        "# Cleaning the text\n",
        "X = movie_df['review']\n",
        "y = movie_df['sentiment']\n",
        "\n",
        "\n",
        "\n",
        "# train test split\n",
        "X_train, X_test, y_train, y_test = train_test_split(X, y, test_size=0.25, random_state=1000)\n",
        "\n",
        "#  fit the vectorizer\n",
        "vectorizer = TfidfVectorizer(max_df =1.0,min_df=1,analyzer='word')\n",
        "fit_obj = vectorizer.fit(X_train)\n",
        "\n",
        "# Transform the vectorizer\n",
        "X_train = fit_obj.transform(X_train)\n",
        "X_test = fit_obj.transform(X_test)\n",
        "\n",
        "\n",
        "\n",
        "\n",
        "\n",
        "\n",
        "classifier = LogisticRegression()\n",
        "classifier.fit(X_train, y_train)\n",
        "score = classifier.score(X_test, y_test)\n",
        "print(\"Accuracy:\", score)"
      ],
      "execution_count": 0,
      "outputs": [
        {
          "output_type": "stream",
          "text": [
            "Accuracy: 0.8\n"
          ],
          "name": "stdout"
        },
        {
          "output_type": "stream",
          "text": [
            "/usr/local/lib/python3.6/dist-packages/sklearn/linear_model/logistic.py:432: FutureWarning: Default solver will be changed to 'lbfgs' in 0.22. Specify a solver to silence this warning.\n",
            "  FutureWarning)\n"
          ],
          "name": "stderr"
        }
      ]
    },
    {
      "cell_type": "markdown",
      "metadata": {
        "id": "mf-ho4rDbEJe",
        "colab_type": "text"
      },
      "source": [
        "# 2. **Neural network without word embedding**\n"
      ]
    },
    {
      "cell_type": "code",
      "metadata": {
        "id": "j3flw2gzbLsr",
        "colab_type": "code",
        "outputId": "b10fb79d-be8f-46cf-967a-cd8e36fc400e",
        "colab": {
          "base_uri": "https://localhost:8080/",
          "height": 235
        }
      },
      "source": [
        "# Cleaning the text\n",
        "X = movie_df['review']\n",
        "y = movie_df['sentiment']\n",
        "\n",
        "\n",
        "\n",
        "# train test split\n",
        "X_train, X_test, y_train, y_test = train_test_split(X, y, test_size=0.25, random_state=1000)\n",
        "\n",
        "#  fit the vectorizer\n",
        "vectorizer = TfidfVectorizer(max_df =1.0,min_df=1,analyzer='word')\n",
        "fit_obj = vectorizer.fit(X_train)\n",
        "\n",
        "# Transform the vectorizer\n",
        "X_train = fit_obj.transform(X_train)\n",
        "X_test = fit_obj.transform(X_test)\n",
        "\n",
        "# Neural Network \n",
        "classifier  = Sequential()\n",
        "classifier.add(Dense(10,input_shape=(X_train.shape[1],), activation = 'relu'))\n",
        "classifier.add(Dense(1, activation = 'sigmoid'))\n",
        "\n",
        "# model summary\n",
        "classifier.summary()"
      ],
      "execution_count": 0,
      "outputs": [
        {
          "output_type": "stream",
          "text": [
            "Model: \"sequential\"\n",
            "_________________________________________________________________\n",
            "Layer (type)                 Output Shape              Param #   \n",
            "=================================================================\n",
            "dense (Dense)                (None, 10)                15470     \n",
            "_________________________________________________________________\n",
            "dense_1 (Dense)              (None, 1)                 11        \n",
            "=================================================================\n",
            "Total params: 15,481\n",
            "Trainable params: 15,481\n",
            "Non-trainable params: 0\n",
            "_________________________________________________________________\n"
          ],
          "name": "stdout"
        }
      ]
    },
    {
      "cell_type": "code",
      "metadata": {
        "id": "eXMAEjcddfQL",
        "colab_type": "code",
        "outputId": "65dcbd52-8c7b-4d1a-e49a-69846bc13bd7",
        "colab": {
          "base_uri": "https://localhost:8080/",
          "height": 1000
        }
      },
      "source": [
        "# compile the model\n",
        "classifier.compile(loss='binary_crossentropy', \n",
        "              optimizer='adam', \n",
        "              metrics=['accuracy'])\n",
        "\n",
        "\n",
        "# Train the model\n",
        "history = classifier.fit(X_train, y_train,\n",
        "                    epochs=100,\n",
        "                    verbose=1 ,\n",
        "                    validation_data=(X_test, y_test),\n",
        "                    batch_size=X_train.shape[0])"
      ],
      "execution_count": 0,
      "outputs": [
        {
          "output_type": "stream",
          "text": [
            "WARNING:tensorflow:Falling back from v2 loop because of error: Failed to find data adapter that can handle input: <class 'scipy.sparse.csr.csr_matrix'>, <class 'NoneType'>\n",
            "Train on 750 samples, validate on 250 samples\n",
            "Epoch 1/100\n",
            "750/750 [==============================] - 0s 162us/sample - loss: 0.6931 - accuracy: 0.5000 - val_loss: 0.6910 - val_accuracy: 0.5320\n",
            "Epoch 2/100\n",
            "750/750 [==============================] - 0s 14us/sample - loss: 0.6913 - accuracy: 0.5253 - val_loss: 0.6903 - val_accuracy: 0.5360\n",
            "Epoch 3/100\n",
            "750/750 [==============================] - 0s 13us/sample - loss: 0.6896 - accuracy: 0.5707 - val_loss: 0.6896 - val_accuracy: 0.5480\n",
            "Epoch 4/100\n",
            "750/750 [==============================] - 0s 11us/sample - loss: 0.6879 - accuracy: 0.6120 - val_loss: 0.6890 - val_accuracy: 0.5480\n",
            "Epoch 5/100\n",
            "750/750 [==============================] - 0s 11us/sample - loss: 0.6861 - accuracy: 0.6573 - val_loss: 0.6883 - val_accuracy: 0.5600\n",
            "Epoch 6/100\n",
            "750/750 [==============================] - 0s 13us/sample - loss: 0.6844 - accuracy: 0.6920 - val_loss: 0.6876 - val_accuracy: 0.5800\n",
            "Epoch 7/100\n",
            "750/750 [==============================] - 0s 11us/sample - loss: 0.6826 - accuracy: 0.7253 - val_loss: 0.6868 - val_accuracy: 0.6120\n",
            "Epoch 8/100\n",
            "750/750 [==============================] - 0s 16us/sample - loss: 0.6808 - accuracy: 0.7627 - val_loss: 0.6861 - val_accuracy: 0.6200\n",
            "Epoch 9/100\n",
            "750/750 [==============================] - 0s 10us/sample - loss: 0.6789 - accuracy: 0.7773 - val_loss: 0.6853 - val_accuracy: 0.6400\n",
            "Epoch 10/100\n",
            "750/750 [==============================] - 0s 10us/sample - loss: 0.6770 - accuracy: 0.7920 - val_loss: 0.6845 - val_accuracy: 0.6600\n",
            "Epoch 11/100\n",
            "750/750 [==============================] - 0s 10us/sample - loss: 0.6750 - accuracy: 0.8133 - val_loss: 0.6837 - val_accuracy: 0.6520\n",
            "Epoch 12/100\n",
            "750/750 [==============================] - 0s 11us/sample - loss: 0.6730 - accuracy: 0.8320 - val_loss: 0.6828 - val_accuracy: 0.6600\n",
            "Epoch 13/100\n",
            "750/750 [==============================] - 0s 11us/sample - loss: 0.6710 - accuracy: 0.8453 - val_loss: 0.6819 - val_accuracy: 0.6600\n",
            "Epoch 14/100\n",
            "750/750 [==============================] - 0s 11us/sample - loss: 0.6689 - accuracy: 0.8573 - val_loss: 0.6810 - val_accuracy: 0.6720\n",
            "Epoch 15/100\n",
            "750/750 [==============================] - 0s 11us/sample - loss: 0.6667 - accuracy: 0.8747 - val_loss: 0.6800 - val_accuracy: 0.6760\n",
            "Epoch 16/100\n",
            "750/750 [==============================] - 0s 11us/sample - loss: 0.6645 - accuracy: 0.8880 - val_loss: 0.6790 - val_accuracy: 0.6800\n",
            "Epoch 17/100\n",
            "750/750 [==============================] - 0s 11us/sample - loss: 0.6622 - accuracy: 0.9013 - val_loss: 0.6780 - val_accuracy: 0.6840\n",
            "Epoch 18/100\n",
            "750/750 [==============================] - 0s 10us/sample - loss: 0.6599 - accuracy: 0.9080 - val_loss: 0.6770 - val_accuracy: 0.6920\n",
            "Epoch 19/100\n",
            "750/750 [==============================] - 0s 11us/sample - loss: 0.6575 - accuracy: 0.9120 - val_loss: 0.6759 - val_accuracy: 0.6920\n",
            "Epoch 20/100\n",
            "750/750 [==============================] - 0s 10us/sample - loss: 0.6551 - accuracy: 0.9120 - val_loss: 0.6749 - val_accuracy: 0.6920\n",
            "Epoch 21/100\n",
            "750/750 [==============================] - 0s 12us/sample - loss: 0.6527 - accuracy: 0.9200 - val_loss: 0.6738 - val_accuracy: 0.7040\n",
            "Epoch 22/100\n",
            "750/750 [==============================] - 0s 12us/sample - loss: 0.6502 - accuracy: 0.9227 - val_loss: 0.6727 - val_accuracy: 0.7040\n",
            "Epoch 23/100\n",
            "750/750 [==============================] - 0s 15us/sample - loss: 0.6476 - accuracy: 0.9280 - val_loss: 0.6715 - val_accuracy: 0.7080\n",
            "Epoch 24/100\n",
            "750/750 [==============================] - 0s 12us/sample - loss: 0.6450 - accuracy: 0.9293 - val_loss: 0.6703 - val_accuracy: 0.7120\n",
            "Epoch 25/100\n",
            "750/750 [==============================] - 0s 22us/sample - loss: 0.6424 - accuracy: 0.9307 - val_loss: 0.6692 - val_accuracy: 0.7080\n",
            "Epoch 26/100\n",
            "750/750 [==============================] - 0s 12us/sample - loss: 0.6397 - accuracy: 0.9333 - val_loss: 0.6680 - val_accuracy: 0.7160\n",
            "Epoch 27/100\n",
            "750/750 [==============================] - 0s 12us/sample - loss: 0.6370 - accuracy: 0.9360 - val_loss: 0.6667 - val_accuracy: 0.7160\n",
            "Epoch 28/100\n",
            "750/750 [==============================] - 0s 16us/sample - loss: 0.6342 - accuracy: 0.9373 - val_loss: 0.6655 - val_accuracy: 0.7200\n",
            "Epoch 29/100\n",
            "750/750 [==============================] - 0s 15us/sample - loss: 0.6314 - accuracy: 0.9413 - val_loss: 0.6643 - val_accuracy: 0.7200\n",
            "Epoch 30/100\n",
            "750/750 [==============================] - 0s 13us/sample - loss: 0.6286 - accuracy: 0.9427 - val_loss: 0.6631 - val_accuracy: 0.7200\n",
            "Epoch 31/100\n",
            "750/750 [==============================] - 0s 14us/sample - loss: 0.6257 - accuracy: 0.9427 - val_loss: 0.6618 - val_accuracy: 0.7240\n",
            "Epoch 32/100\n",
            "750/750 [==============================] - 0s 11us/sample - loss: 0.6228 - accuracy: 0.9467 - val_loss: 0.6605 - val_accuracy: 0.7280\n",
            "Epoch 33/100\n",
            "750/750 [==============================] - 0s 12us/sample - loss: 0.6199 - accuracy: 0.9520 - val_loss: 0.6593 - val_accuracy: 0.7200\n",
            "Epoch 34/100\n",
            "750/750 [==============================] - 0s 15us/sample - loss: 0.6169 - accuracy: 0.9587 - val_loss: 0.6580 - val_accuracy: 0.7320\n",
            "Epoch 35/100\n",
            "750/750 [==============================] - 0s 13us/sample - loss: 0.6139 - accuracy: 0.9600 - val_loss: 0.6567 - val_accuracy: 0.7360\n",
            "Epoch 36/100\n",
            "750/750 [==============================] - 0s 13us/sample - loss: 0.6109 - accuracy: 0.9627 - val_loss: 0.6555 - val_accuracy: 0.7440\n",
            "Epoch 37/100\n",
            "750/750 [==============================] - 0s 15us/sample - loss: 0.6079 - accuracy: 0.9627 - val_loss: 0.6542 - val_accuracy: 0.7440\n",
            "Epoch 38/100\n",
            "750/750 [==============================] - 0s 14us/sample - loss: 0.6048 - accuracy: 0.9640 - val_loss: 0.6529 - val_accuracy: 0.7440\n",
            "Epoch 39/100\n",
            "750/750 [==============================] - 0s 11us/sample - loss: 0.6018 - accuracy: 0.9653 - val_loss: 0.6517 - val_accuracy: 0.7480\n",
            "Epoch 40/100\n",
            "750/750 [==============================] - 0s 14us/sample - loss: 0.5987 - accuracy: 0.9653 - val_loss: 0.6504 - val_accuracy: 0.7480\n",
            "Epoch 41/100\n",
            "750/750 [==============================] - 0s 9us/sample - loss: 0.5956 - accuracy: 0.9667 - val_loss: 0.6491 - val_accuracy: 0.7440\n",
            "Epoch 42/100\n",
            "750/750 [==============================] - 0s 14us/sample - loss: 0.5925 - accuracy: 0.9667 - val_loss: 0.6478 - val_accuracy: 0.7480\n",
            "Epoch 43/100\n",
            "750/750 [==============================] - 0s 17us/sample - loss: 0.5894 - accuracy: 0.9667 - val_loss: 0.6465 - val_accuracy: 0.7480\n",
            "Epoch 44/100\n",
            "750/750 [==============================] - 0s 10us/sample - loss: 0.5863 - accuracy: 0.9667 - val_loss: 0.6452 - val_accuracy: 0.7480\n",
            "Epoch 45/100\n",
            "750/750 [==============================] - 0s 12us/sample - loss: 0.5831 - accuracy: 0.9680 - val_loss: 0.6440 - val_accuracy: 0.7480\n",
            "Epoch 46/100\n",
            "750/750 [==============================] - 0s 15us/sample - loss: 0.5800 - accuracy: 0.9680 - val_loss: 0.6427 - val_accuracy: 0.7520\n",
            "Epoch 47/100\n",
            "750/750 [==============================] - 0s 14us/sample - loss: 0.5769 - accuracy: 0.9680 - val_loss: 0.6414 - val_accuracy: 0.7520\n",
            "Epoch 48/100\n",
            "750/750 [==============================] - 0s 12us/sample - loss: 0.5737 - accuracy: 0.9693 - val_loss: 0.6401 - val_accuracy: 0.7520\n",
            "Epoch 49/100\n",
            "750/750 [==============================] - 0s 15us/sample - loss: 0.5705 - accuracy: 0.9707 - val_loss: 0.6388 - val_accuracy: 0.7520\n",
            "Epoch 50/100\n",
            "750/750 [==============================] - 0s 13us/sample - loss: 0.5674 - accuracy: 0.9720 - val_loss: 0.6375 - val_accuracy: 0.7520\n",
            "Epoch 51/100\n",
            "750/750 [==============================] - 0s 13us/sample - loss: 0.5642 - accuracy: 0.9733 - val_loss: 0.6362 - val_accuracy: 0.7560\n",
            "Epoch 52/100\n",
            "750/750 [==============================] - 0s 13us/sample - loss: 0.5610 - accuracy: 0.9720 - val_loss: 0.6349 - val_accuracy: 0.7600\n",
            "Epoch 53/100\n",
            "750/750 [==============================] - 0s 14us/sample - loss: 0.5579 - accuracy: 0.9720 - val_loss: 0.6336 - val_accuracy: 0.7560\n",
            "Epoch 54/100\n",
            "750/750 [==============================] - 0s 13us/sample - loss: 0.5547 - accuracy: 0.9720 - val_loss: 0.6323 - val_accuracy: 0.7560\n",
            "Epoch 55/100\n",
            "750/750 [==============================] - 0s 18us/sample - loss: 0.5515 - accuracy: 0.9720 - val_loss: 0.6311 - val_accuracy: 0.7560\n",
            "Epoch 56/100\n",
            "750/750 [==============================] - 0s 14us/sample - loss: 0.5484 - accuracy: 0.9733 - val_loss: 0.6298 - val_accuracy: 0.7520\n",
            "Epoch 57/100\n",
            "750/750 [==============================] - 0s 19us/sample - loss: 0.5452 - accuracy: 0.9773 - val_loss: 0.6285 - val_accuracy: 0.7560\n",
            "Epoch 58/100\n",
            "750/750 [==============================] - 0s 14us/sample - loss: 0.5420 - accuracy: 0.9773 - val_loss: 0.6273 - val_accuracy: 0.7560\n",
            "Epoch 59/100\n",
            "750/750 [==============================] - 0s 14us/sample - loss: 0.5389 - accuracy: 0.9773 - val_loss: 0.6260 - val_accuracy: 0.7560\n",
            "Epoch 60/100\n",
            "750/750 [==============================] - 0s 13us/sample - loss: 0.5357 - accuracy: 0.9773 - val_loss: 0.6247 - val_accuracy: 0.7560\n",
            "Epoch 61/100\n",
            "750/750 [==============================] - 0s 14us/sample - loss: 0.5326 - accuracy: 0.9773 - val_loss: 0.6235 - val_accuracy: 0.7560\n",
            "Epoch 62/100\n",
            "750/750 [==============================] - 0s 14us/sample - loss: 0.5294 - accuracy: 0.9760 - val_loss: 0.6222 - val_accuracy: 0.7560\n",
            "Epoch 63/100\n",
            "750/750 [==============================] - 0s 14us/sample - loss: 0.5263 - accuracy: 0.9760 - val_loss: 0.6210 - val_accuracy: 0.7560\n",
            "Epoch 64/100\n",
            "750/750 [==============================] - 0s 12us/sample - loss: 0.5231 - accuracy: 0.9760 - val_loss: 0.6197 - val_accuracy: 0.7600\n",
            "Epoch 65/100\n",
            "750/750 [==============================] - 0s 13us/sample - loss: 0.5200 - accuracy: 0.9760 - val_loss: 0.6185 - val_accuracy: 0.7600\n",
            "Epoch 66/100\n",
            "750/750 [==============================] - 0s 13us/sample - loss: 0.5168 - accuracy: 0.9760 - val_loss: 0.6173 - val_accuracy: 0.7600\n",
            "Epoch 67/100\n",
            "750/750 [==============================] - 0s 12us/sample - loss: 0.5137 - accuracy: 0.9760 - val_loss: 0.6160 - val_accuracy: 0.7600\n",
            "Epoch 68/100\n",
            "750/750 [==============================] - 0s 13us/sample - loss: 0.5106 - accuracy: 0.9773 - val_loss: 0.6148 - val_accuracy: 0.7600\n",
            "Epoch 69/100\n",
            "750/750 [==============================] - 0s 13us/sample - loss: 0.5075 - accuracy: 0.9773 - val_loss: 0.6136 - val_accuracy: 0.7600\n",
            "Epoch 70/100\n",
            "750/750 [==============================] - 0s 11us/sample - loss: 0.5043 - accuracy: 0.9773 - val_loss: 0.6124 - val_accuracy: 0.7600\n",
            "Epoch 71/100\n",
            "750/750 [==============================] - 0s 13us/sample - loss: 0.5012 - accuracy: 0.9773 - val_loss: 0.6112 - val_accuracy: 0.7600\n",
            "Epoch 72/100\n",
            "750/750 [==============================] - 0s 10us/sample - loss: 0.4981 - accuracy: 0.9773 - val_loss: 0.6100 - val_accuracy: 0.7600\n",
            "Epoch 73/100\n",
            "750/750 [==============================] - 0s 13us/sample - loss: 0.4950 - accuracy: 0.9773 - val_loss: 0.6088 - val_accuracy: 0.7600\n",
            "Epoch 74/100\n",
            "750/750 [==============================] - 0s 14us/sample - loss: 0.4919 - accuracy: 0.9773 - val_loss: 0.6076 - val_accuracy: 0.7560\n",
            "Epoch 75/100\n",
            "750/750 [==============================] - 0s 13us/sample - loss: 0.4889 - accuracy: 0.9773 - val_loss: 0.6065 - val_accuracy: 0.7520\n",
            "Epoch 76/100\n",
            "750/750 [==============================] - 0s 13us/sample - loss: 0.4858 - accuracy: 0.9773 - val_loss: 0.6053 - val_accuracy: 0.7520\n",
            "Epoch 77/100\n",
            "750/750 [==============================] - 0s 12us/sample - loss: 0.4827 - accuracy: 0.9773 - val_loss: 0.6041 - val_accuracy: 0.7520\n",
            "Epoch 78/100\n",
            "750/750 [==============================] - 0s 12us/sample - loss: 0.4797 - accuracy: 0.9773 - val_loss: 0.6030 - val_accuracy: 0.7520\n",
            "Epoch 79/100\n",
            "750/750 [==============================] - 0s 15us/sample - loss: 0.4766 - accuracy: 0.9773 - val_loss: 0.6018 - val_accuracy: 0.7520\n",
            "Epoch 80/100\n",
            "750/750 [==============================] - 0s 13us/sample - loss: 0.4736 - accuracy: 0.9773 - val_loss: 0.6007 - val_accuracy: 0.7560\n",
            "Epoch 81/100\n",
            "750/750 [==============================] - 0s 17us/sample - loss: 0.4706 - accuracy: 0.9787 - val_loss: 0.5996 - val_accuracy: 0.7560\n",
            "Epoch 82/100\n",
            "750/750 [==============================] - 0s 13us/sample - loss: 0.4676 - accuracy: 0.9787 - val_loss: 0.5984 - val_accuracy: 0.7560\n",
            "Epoch 83/100\n",
            "750/750 [==============================] - 0s 10us/sample - loss: 0.4646 - accuracy: 0.9800 - val_loss: 0.5973 - val_accuracy: 0.7560\n",
            "Epoch 84/100\n",
            "750/750 [==============================] - 0s 11us/sample - loss: 0.4616 - accuracy: 0.9800 - val_loss: 0.5962 - val_accuracy: 0.7520\n",
            "Epoch 85/100\n",
            "750/750 [==============================] - 0s 13us/sample - loss: 0.4586 - accuracy: 0.9800 - val_loss: 0.5951 - val_accuracy: 0.7560\n",
            "Epoch 86/100\n",
            "750/750 [==============================] - 0s 10us/sample - loss: 0.4556 - accuracy: 0.9800 - val_loss: 0.5940 - val_accuracy: 0.7560\n",
            "Epoch 87/100\n",
            "750/750 [==============================] - 0s 16us/sample - loss: 0.4526 - accuracy: 0.9800 - val_loss: 0.5929 - val_accuracy: 0.7520\n",
            "Epoch 88/100\n",
            "750/750 [==============================] - 0s 12us/sample - loss: 0.4497 - accuracy: 0.9800 - val_loss: 0.5918 - val_accuracy: 0.7520\n",
            "Epoch 89/100\n",
            "750/750 [==============================] - 0s 15us/sample - loss: 0.4468 - accuracy: 0.9800 - val_loss: 0.5907 - val_accuracy: 0.7520\n",
            "Epoch 90/100\n",
            "750/750 [==============================] - 0s 13us/sample - loss: 0.4438 - accuracy: 0.9787 - val_loss: 0.5897 - val_accuracy: 0.7520\n",
            "Epoch 91/100\n",
            "750/750 [==============================] - 0s 11us/sample - loss: 0.4409 - accuracy: 0.9787 - val_loss: 0.5886 - val_accuracy: 0.7560\n",
            "Epoch 92/100\n",
            "750/750 [==============================] - 0s 11us/sample - loss: 0.4380 - accuracy: 0.9787 - val_loss: 0.5876 - val_accuracy: 0.7560\n",
            "Epoch 93/100\n",
            "750/750 [==============================] - 0s 12us/sample - loss: 0.4351 - accuracy: 0.9787 - val_loss: 0.5865 - val_accuracy: 0.7560\n",
            "Epoch 94/100\n",
            "750/750 [==============================] - 0s 13us/sample - loss: 0.4322 - accuracy: 0.9787 - val_loss: 0.5855 - val_accuracy: 0.7560\n",
            "Epoch 95/100\n",
            "750/750 [==============================] - 0s 14us/sample - loss: 0.4293 - accuracy: 0.9787 - val_loss: 0.5844 - val_accuracy: 0.7560\n",
            "Epoch 96/100\n",
            "750/750 [==============================] - 0s 9us/sample - loss: 0.4265 - accuracy: 0.9787 - val_loss: 0.5834 - val_accuracy: 0.7560\n",
            "Epoch 97/100\n",
            "750/750 [==============================] - 0s 12us/sample - loss: 0.4236 - accuracy: 0.9787 - val_loss: 0.5824 - val_accuracy: 0.7600\n",
            "Epoch 98/100\n",
            "750/750 [==============================] - 0s 15us/sample - loss: 0.4208 - accuracy: 0.9800 - val_loss: 0.5814 - val_accuracy: 0.7560\n",
            "Epoch 99/100\n",
            "750/750 [==============================] - 0s 19us/sample - loss: 0.4180 - accuracy: 0.9800 - val_loss: 0.5804 - val_accuracy: 0.7560\n",
            "Epoch 100/100\n",
            "750/750 [==============================] - 0s 13us/sample - loss: 0.4152 - accuracy: 0.9800 - val_loss: 0.5794 - val_accuracy: 0.7560\n"
          ],
          "name": "stdout"
        }
      ]
    },
    {
      "cell_type": "code",
      "metadata": {
        "id": "7YYSkKcRgEul",
        "colab_type": "code",
        "outputId": "e8b0115f-bda6-4a9c-b8e1-a2e68f08423a",
        "colab": {
          "base_uri": "https://localhost:8080/",
          "height": 74
        }
      },
      "source": [
        "loss, accuracy = classifier.evaluate(X_test, y_test, verbose=False)\n",
        "print(\"Accuracy:\", accuracy)"
      ],
      "execution_count": 0,
      "outputs": [
        {
          "output_type": "stream",
          "text": [
            "WARNING:tensorflow:Falling back from v2 loop because of error: Failed to find data adapter that can handle input: <class 'scipy.sparse.csr.csr_matrix'>, <class 'NoneType'>\n",
            "Accuracy: 0.756\n"
          ],
          "name": "stdout"
        }
      ]
    },
    {
      "cell_type": "markdown",
      "metadata": {
        "id": "H2L-d2CAjFcv",
        "colab_type": "text"
      },
      "source": [
        "# 3. **Neural network with word embedding**\n"
      ]
    },
    {
      "cell_type": "markdown",
      "metadata": {
        "id": "jKEyMwnjgoKK",
        "colab_type": "text"
      },
      "source": [
        "## 3.1 **LSTM**\n"
      ]
    },
    {
      "cell_type": "code",
      "metadata": {
        "id": "MxhbeNgy-FKg",
        "colab_type": "code",
        "colab": {}
      },
      "source": [
        "# Cleaning the text\n",
        "X = movie_df['review']\n",
        "y = movie_df['sentiment']\n",
        "\n",
        "# train test split\n",
        "X_train, X_test, y_train, y_test = train_test_split(X, y, test_size=0.25, random_state=1000)\n",
        "\n",
        "# fit method\n",
        "tokenizer_obj = Tokenizer()\n",
        "tokenizer_obj.fit_on_texts(X_train) \n",
        "\n",
        "# pad sequences\n",
        "max_length = max([len(s.split()) for s in X_train])\n",
        "\n",
        "# define vocabulary size\n",
        "vocab_size = len(tokenizer_obj.word_index) + 1 # Adding 1 because of reserved 0 index , 0 index stored padding\n",
        "\n",
        "\n",
        "# Transform\n",
        "X_train_tokens =  tokenizer_obj.texts_to_sequences(X_train)\n",
        "X_test_tokens = tokenizer_obj.texts_to_sequences(X_test)\n",
        "\n",
        "# Padding\n",
        "X_train_pad = pad_sequences(X_train_tokens, maxlen=max_length, padding='post')\n",
        "X_test_pad = pad_sequences(X_test_tokens, maxlen=max_length, padding='post')"
      ],
      "execution_count": 0,
      "outputs": []
    },
    {
      "cell_type": "code",
      "metadata": {
        "id": "wyd_H6a_bae9",
        "colab_type": "code",
        "outputId": "3bf8eb74-b571-438a-b5b1-5a226c295acf",
        "colab": {
          "base_uri": "https://localhost:8080/",
          "height": 308
        }
      },
      "source": [
        "# LSTM\n",
        "embedding_dim =100\n",
        "classifier  = Sequential()\n",
        "classifier.add(Embedding(input_dim=vocab_size, \n",
        "                         output_dim=embedding_dim, \n",
        "                         input_length=max_length))\n",
        "\n",
        "classifier.add(LSTM(100, dropout=0.2, recurrent_dropout=0.2))\n",
        "\n",
        "classifier.add(Dense(10, activation = 'relu'))\n",
        "\n",
        "classifier.add(Dense(1, activation = 'sigmoid'))\n",
        "\n",
        "# model summary\n",
        "classifier.summary()"
      ],
      "execution_count": 0,
      "outputs": [
        {
          "output_type": "stream",
          "text": [
            "Model: \"sequential_1\"\n",
            "_________________________________________________________________\n",
            "Layer (type)                 Output Shape              Param #   \n",
            "=================================================================\n",
            "embedding (Embedding)        (None, 30, 100)           157400    \n",
            "_________________________________________________________________\n",
            "lstm (LSTM)                  (None, 100)               80400     \n",
            "_________________________________________________________________\n",
            "dense_2 (Dense)              (None, 10)                1010      \n",
            "_________________________________________________________________\n",
            "dense_3 (Dense)              (None, 1)                 11        \n",
            "=================================================================\n",
            "Total params: 238,821\n",
            "Trainable params: 238,821\n",
            "Non-trainable params: 0\n",
            "_________________________________________________________________\n"
          ],
          "name": "stdout"
        }
      ]
    },
    {
      "cell_type": "code",
      "metadata": {
        "id": "op2hs9pvcvjv",
        "colab_type": "code",
        "outputId": "baa13c4a-4cf5-4d07-b4c8-c14277749710",
        "colab": {
          "base_uri": "https://localhost:8080/",
          "height": 1000
        }
      },
      "source": [
        "# compile the model\n",
        "classifier.compile(loss='binary_crossentropy', \n",
        "              optimizer='adam', \n",
        "              metrics=['accuracy'])\n",
        "# Train the model\n",
        "history = classifier.fit(X_train_pad, np.array(y_train),\n",
        "                    epochs=100,\n",
        "                    verbose=1 ,\n",
        "                    validation_data=(X_test_pad, np.array(y_test)),\n",
        "                    batch_size=X_test_pad.shape[0])"
      ],
      "execution_count": 0,
      "outputs": [
        {
          "output_type": "stream",
          "text": [
            "Train on 750 samples, validate on 250 samples\n",
            "Epoch 1/100\n",
            "750/750 [==============================] - 2s 3ms/sample - loss: 0.6932 - accuracy: 0.4960 - val_loss: 0.6933 - val_accuracy: 0.4960\n",
            "Epoch 2/100\n",
            "750/750 [==============================] - 0s 585us/sample - loss: 0.6931 - accuracy: 0.5000 - val_loss: 0.6933 - val_accuracy: 0.4960\n",
            "Epoch 3/100\n",
            "750/750 [==============================] - 0s 615us/sample - loss: 0.6933 - accuracy: 0.4773 - val_loss: 0.6932 - val_accuracy: 0.4800\n",
            "Epoch 4/100\n",
            "750/750 [==============================] - 0s 589us/sample - loss: 0.6929 - accuracy: 0.5093 - val_loss: 0.6932 - val_accuracy: 0.5040\n",
            "Epoch 5/100\n",
            "750/750 [==============================] - 0s 590us/sample - loss: 0.6929 - accuracy: 0.5253 - val_loss: 0.6932 - val_accuracy: 0.5080\n",
            "Epoch 6/100\n",
            "750/750 [==============================] - 0s 586us/sample - loss: 0.6925 - accuracy: 0.5227 - val_loss: 0.6931 - val_accuracy: 0.5080\n",
            "Epoch 7/100\n",
            "750/750 [==============================] - 0s 585us/sample - loss: 0.6914 - accuracy: 0.5307 - val_loss: 0.6929 - val_accuracy: 0.5280\n",
            "Epoch 8/100\n",
            "750/750 [==============================] - 0s 597us/sample - loss: 0.6916 - accuracy: 0.5400 - val_loss: 0.6924 - val_accuracy: 0.5360\n",
            "Epoch 9/100\n",
            "750/750 [==============================] - 0s 585us/sample - loss: 0.6880 - accuracy: 0.5987 - val_loss: 0.6904 - val_accuracy: 0.5520\n",
            "Epoch 10/100\n",
            "750/750 [==============================] - 0s 590us/sample - loss: 0.6801 - accuracy: 0.6693 - val_loss: 0.6830 - val_accuracy: 0.5600\n",
            "Epoch 11/100\n",
            "750/750 [==============================] - 0s 595us/sample - loss: 0.6483 - accuracy: 0.7133 - val_loss: 0.6385 - val_accuracy: 0.6680\n",
            "Epoch 12/100\n",
            "750/750 [==============================] - 0s 577us/sample - loss: 0.5513 - accuracy: 0.7720 - val_loss: 0.5570 - val_accuracy: 0.7120\n",
            "Epoch 13/100\n",
            "750/750 [==============================] - 0s 612us/sample - loss: 0.3916 - accuracy: 0.8467 - val_loss: 0.6535 - val_accuracy: 0.7160\n",
            "Epoch 14/100\n",
            "750/750 [==============================] - 0s 582us/sample - loss: 0.2882 - accuracy: 0.9053 - val_loss: 0.6657 - val_accuracy: 0.7720\n",
            "Epoch 15/100\n",
            "750/750 [==============================] - 0s 618us/sample - loss: 0.1667 - accuracy: 0.9520 - val_loss: 0.7232 - val_accuracy: 0.7480\n",
            "Epoch 16/100\n",
            "750/750 [==============================] - 0s 582us/sample - loss: 0.1685 - accuracy: 0.9520 - val_loss: 0.7097 - val_accuracy: 0.7720\n",
            "Epoch 17/100\n",
            "750/750 [==============================] - 0s 599us/sample - loss: 0.1233 - accuracy: 0.9667 - val_loss: 0.8277 - val_accuracy: 0.7480\n",
            "Epoch 18/100\n",
            "750/750 [==============================] - 0s 602us/sample - loss: 0.0944 - accuracy: 0.9787 - val_loss: 0.8007 - val_accuracy: 0.7760\n",
            "Epoch 19/100\n",
            "750/750 [==============================] - 0s 581us/sample - loss: 0.0511 - accuracy: 0.9893 - val_loss: 0.7689 - val_accuracy: 0.7960\n",
            "Epoch 20/100\n",
            "750/750 [==============================] - 0s 583us/sample - loss: 0.0443 - accuracy: 0.9893 - val_loss: 0.7979 - val_accuracy: 0.7920\n",
            "Epoch 21/100\n",
            "750/750 [==============================] - 0s 595us/sample - loss: 0.0373 - accuracy: 0.9920 - val_loss: 0.8193 - val_accuracy: 0.8000\n",
            "Epoch 22/100\n",
            "750/750 [==============================] - 0s 578us/sample - loss: 0.0399 - accuracy: 0.9893 - val_loss: 0.8642 - val_accuracy: 0.8080\n",
            "Epoch 23/100\n",
            "750/750 [==============================] - 0s 593us/sample - loss: 0.0260 - accuracy: 0.9947 - val_loss: 0.9128 - val_accuracy: 0.8080\n",
            "Epoch 24/100\n",
            "750/750 [==============================] - 0s 591us/sample - loss: 0.0305 - accuracy: 0.9947 - val_loss: 0.9367 - val_accuracy: 0.7920\n",
            "Epoch 25/100\n",
            "750/750 [==============================] - 0s 588us/sample - loss: 0.0136 - accuracy: 0.9973 - val_loss: 0.9436 - val_accuracy: 0.8040\n",
            "Epoch 26/100\n",
            "750/750 [==============================] - 0s 599us/sample - loss: 0.0131 - accuracy: 0.9987 - val_loss: 0.9505 - val_accuracy: 0.8000\n",
            "Epoch 27/100\n",
            "750/750 [==============================] - 0s 589us/sample - loss: 0.0085 - accuracy: 0.9987 - val_loss: 0.9541 - val_accuracy: 0.8080\n",
            "Epoch 28/100\n",
            "750/750 [==============================] - 0s 584us/sample - loss: 0.0052 - accuracy: 1.0000 - val_loss: 1.0946 - val_accuracy: 0.7800\n",
            "Epoch 29/100\n",
            "750/750 [==============================] - 0s 625us/sample - loss: 0.0089 - accuracy: 0.9960 - val_loss: 1.0618 - val_accuracy: 0.8000\n",
            "Epoch 30/100\n",
            "750/750 [==============================] - 0s 608us/sample - loss: 0.0054 - accuracy: 0.9987 - val_loss: 1.0967 - val_accuracy: 0.8040\n",
            "Epoch 31/100\n",
            "750/750 [==============================] - 0s 571us/sample - loss: 0.0075 - accuracy: 0.9987 - val_loss: 1.1170 - val_accuracy: 0.8120\n",
            "Epoch 32/100\n",
            "750/750 [==============================] - 0s 573us/sample - loss: 0.0189 - accuracy: 0.9960 - val_loss: 1.1154 - val_accuracy: 0.8040\n",
            "Epoch 33/100\n",
            "750/750 [==============================] - 0s 592us/sample - loss: 0.0078 - accuracy: 0.9960 - val_loss: 1.1725 - val_accuracy: 0.7840\n",
            "Epoch 34/100\n",
            "750/750 [==============================] - 0s 585us/sample - loss: 0.0081 - accuracy: 0.9987 - val_loss: 1.2552 - val_accuracy: 0.7760\n",
            "Epoch 35/100\n",
            "750/750 [==============================] - 0s 579us/sample - loss: 0.0046 - accuracy: 0.9987 - val_loss: 1.2601 - val_accuracy: 0.8000\n",
            "Epoch 36/100\n",
            "750/750 [==============================] - 0s 569us/sample - loss: 0.0012 - accuracy: 1.0000 - val_loss: 1.4602 - val_accuracy: 0.7680\n",
            "Epoch 37/100\n",
            "750/750 [==============================] - 0s 608us/sample - loss: 0.0287 - accuracy: 0.9933 - val_loss: 1.3973 - val_accuracy: 0.7720\n",
            "Epoch 38/100\n",
            "750/750 [==============================] - 0s 572us/sample - loss: 0.0080 - accuracy: 0.9987 - val_loss: 1.3406 - val_accuracy: 0.7880\n",
            "Epoch 39/100\n",
            "750/750 [==============================] - 0s 580us/sample - loss: 9.5200e-04 - accuracy: 1.0000 - val_loss: 1.4746 - val_accuracy: 0.7680\n",
            "Epoch 40/100\n",
            "750/750 [==============================] - 0s 577us/sample - loss: 0.0029 - accuracy: 0.9987 - val_loss: 1.5650 - val_accuracy: 0.7640\n",
            "Epoch 41/100\n",
            "750/750 [==============================] - 0s 579us/sample - loss: 0.0031 - accuracy: 0.9987 - val_loss: 1.5845 - val_accuracy: 0.7760\n",
            "Epoch 42/100\n",
            "750/750 [==============================] - 0s 618us/sample - loss: 0.0107 - accuracy: 0.9987 - val_loss: 1.4797 - val_accuracy: 0.7880\n",
            "Epoch 43/100\n",
            "750/750 [==============================] - 0s 565us/sample - loss: 6.5870e-04 - accuracy: 1.0000 - val_loss: 1.5166 - val_accuracy: 0.7760\n",
            "Epoch 44/100\n",
            "750/750 [==============================] - 0s 587us/sample - loss: 5.9222e-04 - accuracy: 1.0000 - val_loss: 1.5936 - val_accuracy: 0.7760\n",
            "Epoch 45/100\n",
            "750/750 [==============================] - 0s 600us/sample - loss: 0.0031 - accuracy: 0.9987 - val_loss: 1.5684 - val_accuracy: 0.7720\n",
            "Epoch 46/100\n",
            "750/750 [==============================] - 0s 574us/sample - loss: 5.9917e-04 - accuracy: 1.0000 - val_loss: 1.6878 - val_accuracy: 0.7680\n",
            "Epoch 47/100\n",
            "750/750 [==============================] - 0s 557us/sample - loss: 0.0184 - accuracy: 0.9973 - val_loss: 1.5919 - val_accuracy: 0.7680\n",
            "Epoch 48/100\n",
            "750/750 [==============================] - 0s 572us/sample - loss: 0.0103 - accuracy: 0.9987 - val_loss: 1.4778 - val_accuracy: 0.7880\n",
            "Epoch 49/100\n",
            "750/750 [==============================] - 0s 597us/sample - loss: 5.6985e-04 - accuracy: 1.0000 - val_loss: 1.4397 - val_accuracy: 0.7840\n",
            "Epoch 50/100\n",
            "750/750 [==============================] - 0s 566us/sample - loss: 8.0799e-04 - accuracy: 1.0000 - val_loss: 1.4404 - val_accuracy: 0.7920\n",
            "Epoch 51/100\n",
            "750/750 [==============================] - 0s 570us/sample - loss: 0.0086 - accuracy: 0.9987 - val_loss: 1.4152 - val_accuracy: 0.7920\n",
            "Epoch 52/100\n",
            "750/750 [==============================] - 0s 584us/sample - loss: 0.0014 - accuracy: 1.0000 - val_loss: 1.3291 - val_accuracy: 0.7920\n",
            "Epoch 53/100\n",
            "750/750 [==============================] - 0s 590us/sample - loss: 0.0011 - accuracy: 1.0000 - val_loss: 1.3434 - val_accuracy: 0.7800\n",
            "Epoch 54/100\n",
            "750/750 [==============================] - 0s 610us/sample - loss: 0.0011 - accuracy: 1.0000 - val_loss: 1.3645 - val_accuracy: 0.7760\n",
            "Epoch 55/100\n",
            "750/750 [==============================] - 0s 607us/sample - loss: 0.0049 - accuracy: 0.9987 - val_loss: 1.3615 - val_accuracy: 0.7880\n",
            "Epoch 56/100\n",
            "750/750 [==============================] - 0s 600us/sample - loss: 0.0012 - accuracy: 1.0000 - val_loss: 1.3620 - val_accuracy: 0.8000\n",
            "Epoch 57/100\n",
            "750/750 [==============================] - 0s 594us/sample - loss: 8.0893e-04 - accuracy: 1.0000 - val_loss: 1.4069 - val_accuracy: 0.8000\n",
            "Epoch 58/100\n",
            "750/750 [==============================] - 0s 596us/sample - loss: 5.5251e-04 - accuracy: 1.0000 - val_loss: 1.4426 - val_accuracy: 0.7960\n",
            "Epoch 59/100\n",
            "750/750 [==============================] - 0s 600us/sample - loss: 4.9471e-04 - accuracy: 1.0000 - val_loss: 1.4712 - val_accuracy: 0.7920\n",
            "Epoch 60/100\n",
            "750/750 [==============================] - 0s 626us/sample - loss: 5.6048e-04 - accuracy: 1.0000 - val_loss: 1.4920 - val_accuracy: 0.7920\n",
            "Epoch 61/100\n",
            "750/750 [==============================] - 0s 608us/sample - loss: 8.0882e-04 - accuracy: 1.0000 - val_loss: 1.5034 - val_accuracy: 0.7920\n",
            "Epoch 62/100\n",
            "750/750 [==============================] - 0s 570us/sample - loss: 4.1380e-04 - accuracy: 1.0000 - val_loss: 1.5115 - val_accuracy: 0.7920\n",
            "Epoch 63/100\n",
            "750/750 [==============================] - 0s 576us/sample - loss: 9.3849e-04 - accuracy: 1.0000 - val_loss: 1.5269 - val_accuracy: 0.7920\n",
            "Epoch 64/100\n",
            "750/750 [==============================] - 0s 573us/sample - loss: 4.0808e-04 - accuracy: 1.0000 - val_loss: 1.5424 - val_accuracy: 0.7920\n",
            "Epoch 65/100\n",
            "750/750 [==============================] - 0s 595us/sample - loss: 0.0081 - accuracy: 0.9987 - val_loss: 1.5829 - val_accuracy: 0.7840\n",
            "Epoch 66/100\n",
            "750/750 [==============================] - 0s 576us/sample - loss: 0.0115 - accuracy: 0.9987 - val_loss: 1.6722 - val_accuracy: 0.7720\n",
            "Epoch 67/100\n",
            "750/750 [==============================] - 0s 571us/sample - loss: 0.0174 - accuracy: 0.9973 - val_loss: 1.5119 - val_accuracy: 0.7960\n",
            "Epoch 68/100\n",
            "750/750 [==============================] - 0s 579us/sample - loss: 0.0030 - accuracy: 0.9987 - val_loss: 1.5829 - val_accuracy: 0.7840\n",
            "Epoch 69/100\n",
            "750/750 [==============================] - 0s 579us/sample - loss: 3.7450e-04 - accuracy: 1.0000 - val_loss: 1.6358 - val_accuracy: 0.7720\n",
            "Epoch 70/100\n",
            "750/750 [==============================] - 0s 588us/sample - loss: 0.0014 - accuracy: 1.0000 - val_loss: 1.6984 - val_accuracy: 0.7640\n",
            "Epoch 71/100\n",
            "750/750 [==============================] - 0s 582us/sample - loss: 4.2437e-04 - accuracy: 1.0000 - val_loss: 1.6834 - val_accuracy: 0.7760\n",
            "Epoch 72/100\n",
            "750/750 [==============================] - 0s 583us/sample - loss: 4.0312e-04 - accuracy: 1.0000 - val_loss: 1.6766 - val_accuracy: 0.7800\n",
            "Epoch 73/100\n",
            "750/750 [==============================] - 0s 570us/sample - loss: 0.0035 - accuracy: 0.9987 - val_loss: 1.6116 - val_accuracy: 0.7880\n",
            "Epoch 74/100\n",
            "750/750 [==============================] - 0s 589us/sample - loss: 3.3453e-04 - accuracy: 1.0000 - val_loss: 1.6232 - val_accuracy: 0.7800\n",
            "Epoch 75/100\n",
            "750/750 [==============================] - 0s 585us/sample - loss: 0.0110 - accuracy: 0.9987 - val_loss: 1.6001 - val_accuracy: 0.7800\n",
            "Epoch 76/100\n",
            "750/750 [==============================] - 0s 568us/sample - loss: 0.0100 - accuracy: 0.9987 - val_loss: 1.5641 - val_accuracy: 0.7880\n",
            "Epoch 77/100\n",
            "750/750 [==============================] - 0s 573us/sample - loss: 0.0040 - accuracy: 0.9973 - val_loss: 1.5634 - val_accuracy: 0.7840\n",
            "Epoch 78/100\n",
            "750/750 [==============================] - 0s 594us/sample - loss: 9.0572e-04 - accuracy: 1.0000 - val_loss: 1.7016 - val_accuracy: 0.7640\n",
            "Epoch 79/100\n",
            "750/750 [==============================] - 0s 594us/sample - loss: 0.0136 - accuracy: 0.9973 - val_loss: 1.8362 - val_accuracy: 0.7440\n",
            "Epoch 80/100\n",
            "750/750 [==============================] - 0s 579us/sample - loss: 0.0451 - accuracy: 0.9933 - val_loss: 1.6225 - val_accuracy: 0.7600\n",
            "Epoch 81/100\n",
            "750/750 [==============================] - 0s 643us/sample - loss: 0.0022 - accuracy: 0.9987 - val_loss: 1.2971 - val_accuracy: 0.8040\n",
            "Epoch 82/100\n",
            "750/750 [==============================] - 0s 658us/sample - loss: 6.6950e-04 - accuracy: 1.0000 - val_loss: 1.2489 - val_accuracy: 0.7960\n",
            "Epoch 83/100\n",
            "750/750 [==============================] - 0s 591us/sample - loss: 0.0012 - accuracy: 1.0000 - val_loss: 1.3063 - val_accuracy: 0.7880\n",
            "Epoch 84/100\n",
            "750/750 [==============================] - 0s 563us/sample - loss: 0.0072 - accuracy: 0.9960 - val_loss: 1.3173 - val_accuracy: 0.7880\n",
            "Epoch 85/100\n",
            "750/750 [==============================] - 0s 584us/sample - loss: 0.0016 - accuracy: 1.0000 - val_loss: 1.2907 - val_accuracy: 0.7960\n",
            "Epoch 86/100\n",
            "750/750 [==============================] - 0s 577us/sample - loss: 8.3218e-04 - accuracy: 1.0000 - val_loss: 1.2830 - val_accuracy: 0.8000\n",
            "Epoch 87/100\n",
            "750/750 [==============================] - 0s 599us/sample - loss: 6.9610e-04 - accuracy: 1.0000 - val_loss: 1.2944 - val_accuracy: 0.8040\n",
            "Epoch 88/100\n",
            "750/750 [==============================] - 0s 585us/sample - loss: 5.5910e-04 - accuracy: 1.0000 - val_loss: 1.3097 - val_accuracy: 0.8080\n",
            "Epoch 89/100\n",
            "750/750 [==============================] - 0s 576us/sample - loss: 5.1451e-04 - accuracy: 1.0000 - val_loss: 1.3336 - val_accuracy: 0.8000\n",
            "Epoch 90/100\n",
            "750/750 [==============================] - 0s 590us/sample - loss: 5.1044e-04 - accuracy: 1.0000 - val_loss: 1.3636 - val_accuracy: 0.8080\n",
            "Epoch 91/100\n",
            "750/750 [==============================] - 0s 571us/sample - loss: 5.2919e-04 - accuracy: 1.0000 - val_loss: 1.3928 - val_accuracy: 0.8040\n",
            "Epoch 92/100\n",
            "750/750 [==============================] - 0s 574us/sample - loss: 3.7929e-04 - accuracy: 1.0000 - val_loss: 1.4130 - val_accuracy: 0.7960\n",
            "Epoch 93/100\n",
            "750/750 [==============================] - 0s 588us/sample - loss: 5.6375e-04 - accuracy: 1.0000 - val_loss: 1.4349 - val_accuracy: 0.7960\n",
            "Epoch 94/100\n",
            "750/750 [==============================] - 0s 573us/sample - loss: 2.9842e-04 - accuracy: 1.0000 - val_loss: 1.4542 - val_accuracy: 0.7960\n",
            "Epoch 95/100\n",
            "750/750 [==============================] - 0s 583us/sample - loss: 3.8413e-04 - accuracy: 1.0000 - val_loss: 1.4728 - val_accuracy: 0.7960\n",
            "Epoch 96/100\n",
            "750/750 [==============================] - 0s 558us/sample - loss: 4.2211e-04 - accuracy: 1.0000 - val_loss: 1.4900 - val_accuracy: 0.7920\n",
            "Epoch 97/100\n",
            "750/750 [==============================] - 0s 596us/sample - loss: 3.7823e-04 - accuracy: 1.0000 - val_loss: 1.5100 - val_accuracy: 0.7920\n",
            "Epoch 98/100\n",
            "750/750 [==============================] - 0s 569us/sample - loss: 4.8222e-04 - accuracy: 1.0000 - val_loss: 1.5259 - val_accuracy: 0.7960\n",
            "Epoch 99/100\n",
            "750/750 [==============================] - 0s 570us/sample - loss: 2.2023e-04 - accuracy: 1.0000 - val_loss: 1.5410 - val_accuracy: 0.7920\n",
            "Epoch 100/100\n",
            "750/750 [==============================] - 0s 595us/sample - loss: 2.9178e-04 - accuracy: 1.0000 - val_loss: 1.5675 - val_accuracy: 0.7920\n"
          ],
          "name": "stdout"
        }
      ]
    },
    {
      "cell_type": "code",
      "metadata": {
        "id": "GbTRlAPgcZ1Q",
        "colab_type": "code",
        "outputId": "49951c1a-fe04-43de-d1cb-82462d935c57",
        "colab": {
          "base_uri": "https://localhost:8080/",
          "height": 74
        }
      },
      "source": [
        "loss, accuracy = classifier.evaluate(X_test_pad, np.array(y_test), verbose=True)\n",
        "print(\"Accuracy:\", accuracy)"
      ],
      "execution_count": 0,
      "outputs": [
        {
          "output_type": "stream",
          "text": [
            "\r250/1 [============================================================================================================================================================================================================================================================================================================================================================================================================================================================================================================================================================================================================================================================================================================================================================================================================================================================================================================================================================================================================================================================================================================================================================================================================================================================================================================================================================================================================================================================================================================================================================================================================================================================================================================================================================================================================================================================================================================================================================================================================================================================================================================================================================================================================================================================================================================================================================================================================================================================================================================================================================================================================================================================================================================================================================================================================================================================================================================================================================================================================================================================================================================================================================================================================================================================================================================================================================================================================================================================================================================================================================================================================================================================================================================================================================================================================================================================================================================================================================================================================================================================================================================================================================================================================================================================================================================================================================================================================================================================================================================================================================================================================================================================================================================================================================================================================================================================================================================================================================================================================================================================================================================================================================================================================================================================================================================================================================================================================================================================================================================================================================================================================================================================================================================================================================================================================================================================================================================================================================================================================================================================================================================================================================================================================================================================================================================================================================================================================================================================================================================================================================================================================================================================================================================================================================================================================================================================================================================================================================================================================================================================================================================================================================================================================================================================================================================================================================================================================================================================================================================================================================================================================================================================================================================================================================================================================] - 0s 932us/sample - loss: 1.4390 - accuracy: 0.7920\n",
            "Accuracy: 0.792\n"
          ],
          "name": "stdout"
        }
      ]
    },
    {
      "cell_type": "markdown",
      "metadata": {
        "id": "ybGbMXfBgyec",
        "colab_type": "text"
      },
      "source": [
        "## 3.2 **GRU**"
      ]
    },
    {
      "cell_type": "code",
      "metadata": {
        "id": "NtjqLqnEg8_C",
        "colab_type": "code",
        "outputId": "19f89811-9a31-438e-87a9-234ba202edf2",
        "colab": {
          "base_uri": "https://localhost:8080/",
          "height": 308
        }
      },
      "source": [
        "# GRU\n",
        "embedding_dim =100\n",
        "classifier  = Sequential()\n",
        "classifier.add(Embedding(input_dim=vocab_size, \n",
        "                         output_dim=embedding_dim, \n",
        "                         input_length=max_length))\n",
        "\n",
        "classifier.add(GRU(100, dropout=0.2, recurrent_dropout=0.2))\n",
        "\n",
        "classifier.add(Dense(10, activation = 'relu'))\n",
        "\n",
        "classifier.add(Dense(1, activation = 'sigmoid'))\n",
        "\n",
        "# model summary\n",
        "classifier.summary()"
      ],
      "execution_count": 0,
      "outputs": [
        {
          "output_type": "stream",
          "text": [
            "Model: \"sequential_2\"\n",
            "_________________________________________________________________\n",
            "Layer (type)                 Output Shape              Param #   \n",
            "=================================================================\n",
            "embedding_1 (Embedding)      (None, 30, 100)           157400    \n",
            "_________________________________________________________________\n",
            "gru (GRU)                    (None, 100)               60600     \n",
            "_________________________________________________________________\n",
            "dense_4 (Dense)              (None, 10)                1010      \n",
            "_________________________________________________________________\n",
            "dense_5 (Dense)              (None, 1)                 11        \n",
            "=================================================================\n",
            "Total params: 219,021\n",
            "Trainable params: 219,021\n",
            "Non-trainable params: 0\n",
            "_________________________________________________________________\n"
          ],
          "name": "stdout"
        }
      ]
    },
    {
      "cell_type": "code",
      "metadata": {
        "id": "yHM5-c2ahAM6",
        "colab_type": "code",
        "outputId": "57781ed4-ea3a-4f94-da56-bab4ff2dc666",
        "colab": {
          "base_uri": "https://localhost:8080/",
          "height": 1000
        }
      },
      "source": [
        "# compile the model\n",
        "classifier.compile(loss='binary_crossentropy', \n",
        "              optimizer='adam', \n",
        "              metrics=['accuracy'])\n",
        "# Train the model\n",
        "history = classifier.fit(X_train_pad, np.array(y_train),\n",
        "                    epochs=100,\n",
        "                    verbose=1 ,\n",
        "                    validation_data=(X_test_pad, np.array(y_test)),\n",
        "                    batch_size=X_test_pad.shape[0])"
      ],
      "execution_count": 0,
      "outputs": [
        {
          "output_type": "stream",
          "text": [
            "Train on 750 samples, validate on 250 samples\n",
            "Epoch 1/100\n",
            "750/750 [==============================] - 2s 3ms/sample - loss: 0.6936 - accuracy: 0.4933 - val_loss: 0.6931 - val_accuracy: 0.5040\n",
            "Epoch 2/100\n",
            "750/750 [==============================] - 1s 670us/sample - loss: 0.6938 - accuracy: 0.4880 - val_loss: 0.6932 - val_accuracy: 0.4960\n",
            "Epoch 3/100\n",
            "750/750 [==============================] - 1s 687us/sample - loss: 0.6932 - accuracy: 0.4960 - val_loss: 0.6931 - val_accuracy: 0.5040\n",
            "Epoch 4/100\n",
            "750/750 [==============================] - 1s 670us/sample - loss: 0.6934 - accuracy: 0.5000 - val_loss: 0.6931 - val_accuracy: 0.5040\n",
            "Epoch 5/100\n",
            "750/750 [==============================] - 1s 703us/sample - loss: 0.6926 - accuracy: 0.4973 - val_loss: 0.6932 - val_accuracy: 0.4960\n",
            "Epoch 6/100\n",
            "750/750 [==============================] - 1s 673us/sample - loss: 0.6929 - accuracy: 0.4907 - val_loss: 0.6932 - val_accuracy: 0.4960\n",
            "Epoch 7/100\n",
            "750/750 [==============================] - 1s 773us/sample - loss: 0.6929 - accuracy: 0.5040 - val_loss: 0.6932 - val_accuracy: 0.4960\n",
            "Epoch 8/100\n",
            "750/750 [==============================] - 1s 745us/sample - loss: 0.6931 - accuracy: 0.5173 - val_loss: 0.6932 - val_accuracy: 0.4960\n",
            "Epoch 9/100\n",
            "750/750 [==============================] - 1s 735us/sample - loss: 0.6924 - accuracy: 0.5200 - val_loss: 0.6932 - val_accuracy: 0.4960\n",
            "Epoch 10/100\n",
            "750/750 [==============================] - 1s 676us/sample - loss: 0.6923 - accuracy: 0.5147 - val_loss: 0.6931 - val_accuracy: 0.5040\n",
            "Epoch 11/100\n",
            "750/750 [==============================] - 1s 682us/sample - loss: 0.6928 - accuracy: 0.5027 - val_loss: 0.6931 - val_accuracy: 0.5040\n",
            "Epoch 12/100\n",
            "750/750 [==============================] - 1s 670us/sample - loss: 0.6905 - accuracy: 0.5653 - val_loss: 0.6931 - val_accuracy: 0.5040\n",
            "Epoch 13/100\n",
            "750/750 [==============================] - 1s 684us/sample - loss: 0.6904 - accuracy: 0.5347 - val_loss: 0.6931 - val_accuracy: 0.5040\n",
            "Epoch 14/100\n",
            "750/750 [==============================] - 0s 666us/sample - loss: 0.6916 - accuracy: 0.5120 - val_loss: 0.6930 - val_accuracy: 0.5320\n",
            "Epoch 15/100\n",
            "750/750 [==============================] - 1s 687us/sample - loss: 0.6866 - accuracy: 0.5787 - val_loss: 0.6928 - val_accuracy: 0.5200\n",
            "Epoch 16/100\n",
            "750/750 [==============================] - 1s 674us/sample - loss: 0.6803 - accuracy: 0.6053 - val_loss: 0.6922 - val_accuracy: 0.5080\n",
            "Epoch 17/100\n",
            "750/750 [==============================] - 1s 732us/sample - loss: 0.6539 - accuracy: 0.6280 - val_loss: 0.6881 - val_accuracy: 0.5200\n",
            "Epoch 18/100\n",
            "750/750 [==============================] - 1s 669us/sample - loss: 0.5912 - accuracy: 0.7120 - val_loss: 0.6913 - val_accuracy: 0.5080\n",
            "Epoch 19/100\n",
            "750/750 [==============================] - 1s 725us/sample - loss: 0.5100 - accuracy: 0.7667 - val_loss: 0.6583 - val_accuracy: 0.6800\n",
            "Epoch 20/100\n",
            "750/750 [==============================] - 1s 692us/sample - loss: 0.4209 - accuracy: 0.8280 - val_loss: 0.6554 - val_accuracy: 0.7560\n",
            "Epoch 21/100\n",
            "750/750 [==============================] - 1s 690us/sample - loss: 0.3202 - accuracy: 0.8960 - val_loss: 0.6517 - val_accuracy: 0.6320\n",
            "Epoch 22/100\n",
            "750/750 [==============================] - 1s 683us/sample - loss: 0.2403 - accuracy: 0.9187 - val_loss: 0.6155 - val_accuracy: 0.7760\n",
            "Epoch 23/100\n",
            "750/750 [==============================] - 1s 677us/sample - loss: 0.1725 - accuracy: 0.9440 - val_loss: 0.5875 - val_accuracy: 0.7040\n",
            "Epoch 24/100\n",
            "750/750 [==============================] - 1s 674us/sample - loss: 0.1100 - accuracy: 0.9693 - val_loss: 0.5497 - val_accuracy: 0.7800\n",
            "Epoch 25/100\n",
            "750/750 [==============================] - 1s 668us/sample - loss: 0.0567 - accuracy: 0.9880 - val_loss: 0.5533 - val_accuracy: 0.7120\n",
            "Epoch 26/100\n",
            "750/750 [==============================] - 1s 670us/sample - loss: 0.0514 - accuracy: 0.9800 - val_loss: 0.5071 - val_accuracy: 0.7760\n",
            "Epoch 27/100\n",
            "750/750 [==============================] - 1s 669us/sample - loss: 0.0209 - accuracy: 0.9947 - val_loss: 0.4888 - val_accuracy: 0.7840\n",
            "Epoch 28/100\n",
            "750/750 [==============================] - 1s 671us/sample - loss: 0.0325 - accuracy: 0.9933 - val_loss: 0.4931 - val_accuracy: 0.7800\n",
            "Epoch 29/100\n",
            "750/750 [==============================] - 1s 675us/sample - loss: 0.0112 - accuracy: 0.9987 - val_loss: 0.5032 - val_accuracy: 0.7840\n",
            "Epoch 30/100\n",
            "750/750 [==============================] - 1s 679us/sample - loss: 0.0173 - accuracy: 0.9933 - val_loss: 0.5007 - val_accuracy: 0.7960\n",
            "Epoch 31/100\n",
            "750/750 [==============================] - 1s 673us/sample - loss: 0.0040 - accuracy: 0.9987 - val_loss: 0.4988 - val_accuracy: 0.7760\n",
            "Epoch 32/100\n",
            "750/750 [==============================] - 1s 671us/sample - loss: 0.0030 - accuracy: 1.0000 - val_loss: 0.5077 - val_accuracy: 0.7560\n",
            "Epoch 33/100\n",
            "750/750 [==============================] - 1s 673us/sample - loss: 0.0042 - accuracy: 1.0000 - val_loss: 0.4960 - val_accuracy: 0.7760\n",
            "Epoch 34/100\n",
            "750/750 [==============================] - 1s 681us/sample - loss: 0.0020 - accuracy: 1.0000 - val_loss: 0.4775 - val_accuracy: 0.7920\n",
            "Epoch 35/100\n",
            "750/750 [==============================] - 1s 675us/sample - loss: 0.0011 - accuracy: 1.0000 - val_loss: 0.4643 - val_accuracy: 0.8040\n",
            "Epoch 36/100\n",
            "750/750 [==============================] - 1s 667us/sample - loss: 4.1863e-04 - accuracy: 1.0000 - val_loss: 0.4575 - val_accuracy: 0.8000\n",
            "Epoch 37/100\n",
            "750/750 [==============================] - 1s 678us/sample - loss: 1.8005e-04 - accuracy: 1.0000 - val_loss: 0.4547 - val_accuracy: 0.8000\n",
            "Epoch 38/100\n",
            "750/750 [==============================] - 1s 693us/sample - loss: 8.1100e-04 - accuracy: 1.0000 - val_loss: 0.4558 - val_accuracy: 0.8000\n",
            "Epoch 39/100\n",
            "750/750 [==============================] - 1s 719us/sample - loss: 1.8777e-04 - accuracy: 1.0000 - val_loss: 0.4585 - val_accuracy: 0.8000\n",
            "Epoch 40/100\n",
            "750/750 [==============================] - 1s 671us/sample - loss: 3.0921e-04 - accuracy: 1.0000 - val_loss: 0.4606 - val_accuracy: 0.7960\n",
            "Epoch 41/100\n",
            "750/750 [==============================] - 1s 676us/sample - loss: 2.3200e-04 - accuracy: 1.0000 - val_loss: 0.4628 - val_accuracy: 0.7960\n",
            "Epoch 42/100\n",
            "750/750 [==============================] - 1s 672us/sample - loss: 3.3915e-04 - accuracy: 1.0000 - val_loss: 0.4651 - val_accuracy: 0.8000\n",
            "Epoch 43/100\n",
            "750/750 [==============================] - 1s 670us/sample - loss: 8.9115e-05 - accuracy: 1.0000 - val_loss: 0.4673 - val_accuracy: 0.8080\n",
            "Epoch 44/100\n",
            "750/750 [==============================] - 1s 671us/sample - loss: 1.6983e-04 - accuracy: 1.0000 - val_loss: 0.4693 - val_accuracy: 0.8080\n",
            "Epoch 45/100\n",
            "750/750 [==============================] - 1s 679us/sample - loss: 6.3534e-04 - accuracy: 1.0000 - val_loss: 0.4706 - val_accuracy: 0.8080\n",
            "Epoch 46/100\n",
            "750/750 [==============================] - 1s 685us/sample - loss: 7.7065e-05 - accuracy: 1.0000 - val_loss: 0.4711 - val_accuracy: 0.8080\n",
            "Epoch 47/100\n",
            "750/750 [==============================] - 1s 676us/sample - loss: 2.3063e-04 - accuracy: 1.0000 - val_loss: 0.4718 - val_accuracy: 0.8040\n",
            "Epoch 48/100\n",
            "750/750 [==============================] - 1s 692us/sample - loss: 1.2754e-04 - accuracy: 1.0000 - val_loss: 0.4727 - val_accuracy: 0.8000\n",
            "Epoch 49/100\n",
            "750/750 [==============================] - 1s 708us/sample - loss: 0.0143 - accuracy: 0.9987 - val_loss: 0.4677 - val_accuracy: 0.7960\n",
            "Epoch 50/100\n",
            "750/750 [==============================] - 0s 656us/sample - loss: 4.3224e-05 - accuracy: 1.0000 - val_loss: 0.4577 - val_accuracy: 0.8000\n",
            "Epoch 51/100\n",
            "750/750 [==============================] - 1s 679us/sample - loss: 3.3088e-04 - accuracy: 1.0000 - val_loss: 0.4544 - val_accuracy: 0.7840\n",
            "Epoch 52/100\n",
            "750/750 [==============================] - 0s 664us/sample - loss: 0.0184 - accuracy: 0.9973 - val_loss: 0.4505 - val_accuracy: 0.8000\n",
            "Epoch 53/100\n",
            "750/750 [==============================] - 1s 677us/sample - loss: 6.1004e-04 - accuracy: 1.0000 - val_loss: 0.4609 - val_accuracy: 0.8080\n",
            "Epoch 54/100\n",
            "750/750 [==============================] - 0s 654us/sample - loss: 7.4623e-04 - accuracy: 1.0000 - val_loss: 0.4756 - val_accuracy: 0.8120\n",
            "Epoch 55/100\n",
            "750/750 [==============================] - 1s 675us/sample - loss: 0.0018 - accuracy: 1.0000 - val_loss: 0.4833 - val_accuracy: 0.8080\n",
            "Epoch 56/100\n",
            "750/750 [==============================] - 0s 662us/sample - loss: 0.0020 - accuracy: 1.0000 - val_loss: 0.4826 - val_accuracy: 0.8080\n",
            "Epoch 57/100\n",
            "750/750 [==============================] - 1s 684us/sample - loss: 0.0013 - accuracy: 1.0000 - val_loss: 0.4788 - val_accuracy: 0.8000\n",
            "Epoch 58/100\n",
            "750/750 [==============================] - 1s 683us/sample - loss: 0.0032 - accuracy: 0.9987 - val_loss: 0.4705 - val_accuracy: 0.8040\n",
            "Epoch 59/100\n",
            "750/750 [==============================] - 1s 679us/sample - loss: 8.3015e-04 - accuracy: 1.0000 - val_loss: 0.4623 - val_accuracy: 0.8080\n",
            "Epoch 60/100\n",
            "750/750 [==============================] - 0s 663us/sample - loss: 0.0011 - accuracy: 1.0000 - val_loss: 0.4565 - val_accuracy: 0.7960\n",
            "Epoch 61/100\n",
            "750/750 [==============================] - 1s 672us/sample - loss: 0.0015 - accuracy: 1.0000 - val_loss: 0.4535 - val_accuracy: 0.7960\n",
            "Epoch 62/100\n",
            "750/750 [==============================] - 0s 664us/sample - loss: 2.4243e-04 - accuracy: 1.0000 - val_loss: 0.4531 - val_accuracy: 0.7960\n",
            "Epoch 63/100\n",
            "750/750 [==============================] - 1s 680us/sample - loss: 1.8191e-04 - accuracy: 1.0000 - val_loss: 0.4540 - val_accuracy: 0.7920\n",
            "Epoch 64/100\n",
            "750/750 [==============================] - 0s 664us/sample - loss: 3.4741e-04 - accuracy: 1.0000 - val_loss: 0.4546 - val_accuracy: 0.7920\n",
            "Epoch 65/100\n",
            "750/750 [==============================] - 1s 720us/sample - loss: 1.1566e-04 - accuracy: 1.0000 - val_loss: 0.4552 - val_accuracy: 0.7960\n",
            "Epoch 66/100\n",
            "750/750 [==============================] - 1s 677us/sample - loss: 0.0040 - accuracy: 0.9973 - val_loss: 0.4542 - val_accuracy: 0.8000\n",
            "Epoch 67/100\n",
            "750/750 [==============================] - 1s 699us/sample - loss: 6.0030e-05 - accuracy: 1.0000 - val_loss: 0.4676 - val_accuracy: 0.8040\n",
            "Epoch 68/100\n",
            "750/750 [==============================] - 0s 662us/sample - loss: 1.8686e-04 - accuracy: 1.0000 - val_loss: 0.4880 - val_accuracy: 0.7880\n",
            "Epoch 69/100\n",
            "750/750 [==============================] - 1s 699us/sample - loss: 6.5200e-05 - accuracy: 1.0000 - val_loss: 0.5101 - val_accuracy: 0.7800\n",
            "Epoch 70/100\n",
            "750/750 [==============================] - 1s 669us/sample - loss: 0.0019 - accuracy: 0.9987 - val_loss: 0.4925 - val_accuracy: 0.7920\n",
            "Epoch 71/100\n",
            "750/750 [==============================] - 1s 685us/sample - loss: 1.0697e-04 - accuracy: 1.0000 - val_loss: 0.4605 - val_accuracy: 0.7840\n",
            "Epoch 72/100\n",
            "750/750 [==============================] - 1s 670us/sample - loss: 0.0105 - accuracy: 0.9973 - val_loss: 0.4629 - val_accuracy: 0.7800\n",
            "Epoch 73/100\n",
            "750/750 [==============================] - 1s 706us/sample - loss: 0.0033 - accuracy: 0.9987 - val_loss: 0.4795 - val_accuracy: 0.7840\n",
            "Epoch 74/100\n",
            "750/750 [==============================] - 1s 685us/sample - loss: 0.0022 - accuracy: 0.9987 - val_loss: 0.5226 - val_accuracy: 0.7400\n",
            "Epoch 75/100\n",
            "750/750 [==============================] - 1s 715us/sample - loss: 0.0067 - accuracy: 0.9973 - val_loss: 0.5326 - val_accuracy: 0.7440\n",
            "Epoch 76/100\n",
            "750/750 [==============================] - 1s 682us/sample - loss: 0.0016 - accuracy: 1.0000 - val_loss: 0.5132 - val_accuracy: 0.7880\n",
            "Epoch 77/100\n",
            "750/750 [==============================] - 1s 699us/sample - loss: 0.0056 - accuracy: 0.9973 - val_loss: 0.5262 - val_accuracy: 0.7480\n",
            "Epoch 78/100\n",
            "750/750 [==============================] - 1s 765us/sample - loss: 0.0032 - accuracy: 1.0000 - val_loss: 0.5135 - val_accuracy: 0.7480\n",
            "Epoch 79/100\n",
            "750/750 [==============================] - 1s 739us/sample - loss: 0.0051 - accuracy: 0.9987 - val_loss: 0.4673 - val_accuracy: 0.7840\n",
            "Epoch 80/100\n",
            "750/750 [==============================] - 1s 699us/sample - loss: 1.5454e-04 - accuracy: 1.0000 - val_loss: 0.4564 - val_accuracy: 0.7880\n",
            "Epoch 81/100\n",
            "750/750 [==============================] - 1s 696us/sample - loss: 1.8280e-04 - accuracy: 1.0000 - val_loss: 0.4766 - val_accuracy: 0.8040\n",
            "Epoch 82/100\n",
            "750/750 [==============================] - 1s 691us/sample - loss: 1.5824e-04 - accuracy: 1.0000 - val_loss: 0.5060 - val_accuracy: 0.8000\n",
            "Epoch 83/100\n",
            "750/750 [==============================] - 1s 686us/sample - loss: 0.0115 - accuracy: 0.9987 - val_loss: 0.5086 - val_accuracy: 0.7960\n",
            "Epoch 84/100\n",
            "750/750 [==============================] - 1s 706us/sample - loss: 1.3531e-04 - accuracy: 1.0000 - val_loss: 0.4768 - val_accuracy: 0.8000\n",
            "Epoch 85/100\n",
            "750/750 [==============================] - 1s 696us/sample - loss: 1.0896e-04 - accuracy: 1.0000 - val_loss: 0.4606 - val_accuracy: 0.7840\n",
            "Epoch 86/100\n",
            "750/750 [==============================] - 1s 721us/sample - loss: 2.4722e-04 - accuracy: 1.0000 - val_loss: 0.4520 - val_accuracy: 0.7840\n",
            "Epoch 87/100\n",
            "750/750 [==============================] - 1s 708us/sample - loss: 0.0012 - accuracy: 0.9987 - val_loss: 0.4490 - val_accuracy: 0.7880\n",
            "Epoch 88/100\n",
            "750/750 [==============================] - 1s 707us/sample - loss: 4.5510e-05 - accuracy: 1.0000 - val_loss: 0.4615 - val_accuracy: 0.8000\n",
            "Epoch 89/100\n",
            "750/750 [==============================] - 1s 681us/sample - loss: 4.3881e-05 - accuracy: 1.0000 - val_loss: 0.4811 - val_accuracy: 0.7960\n",
            "Epoch 90/100\n",
            "750/750 [==============================] - 1s 685us/sample - loss: 0.0131 - accuracy: 0.9973 - val_loss: 0.4532 - val_accuracy: 0.7960\n",
            "Epoch 91/100\n",
            "750/750 [==============================] - 1s 680us/sample - loss: 8.8272e-05 - accuracy: 1.0000 - val_loss: 0.4485 - val_accuracy: 0.7960\n",
            "Epoch 92/100\n",
            "750/750 [==============================] - 1s 688us/sample - loss: 0.0092 - accuracy: 0.9987 - val_loss: 0.4615 - val_accuracy: 0.7840\n",
            "Epoch 93/100\n",
            "750/750 [==============================] - 1s 670us/sample - loss: 0.0019 - accuracy: 0.9987 - val_loss: 0.4994 - val_accuracy: 0.7640\n",
            "Epoch 94/100\n",
            "750/750 [==============================] - 1s 683us/sample - loss: 0.0028 - accuracy: 0.9987 - val_loss: 0.5263 - val_accuracy: 0.7520\n",
            "Epoch 95/100\n",
            "750/750 [==============================] - 0s 663us/sample - loss: 0.0011 - accuracy: 1.0000 - val_loss: 0.5296 - val_accuracy: 0.7680\n",
            "Epoch 96/100\n",
            "750/750 [==============================] - 1s 757us/sample - loss: 0.0027 - accuracy: 1.0000 - val_loss: 0.5155 - val_accuracy: 0.7960\n",
            "Epoch 97/100\n",
            "750/750 [==============================] - 1s 729us/sample - loss: 0.0020 - accuracy: 1.0000 - val_loss: 0.4977 - val_accuracy: 0.7800\n",
            "Epoch 98/100\n",
            "750/750 [==============================] - 1s 673us/sample - loss: 0.0013 - accuracy: 1.0000 - val_loss: 0.4816 - val_accuracy: 0.7920\n",
            "Epoch 99/100\n",
            "750/750 [==============================] - 0s 665us/sample - loss: 4.3323e-04 - accuracy: 1.0000 - val_loss: 0.4699 - val_accuracy: 0.7920\n",
            "Epoch 100/100\n",
            "750/750 [==============================] - 1s 689us/sample - loss: 6.6132e-04 - accuracy: 1.0000 - val_loss: 0.4609 - val_accuracy: 0.7920\n"
          ],
          "name": "stdout"
        }
      ]
    },
    {
      "cell_type": "code",
      "metadata": {
        "id": "py08NonLhDjq",
        "colab_type": "code",
        "colab": {
          "base_uri": "https://localhost:8080/",
          "height": 74
        },
        "outputId": "84c0cc65-772e-41a9-8c09-7f2ffd69a91e"
      },
      "source": [
        "loss, accuracy = classifier.evaluate(X_test_pad, np.array(y_test), verbose=True)\n",
        "print(\"Accuracy:\", accuracy)"
      ],
      "execution_count": 16,
      "outputs": [
        {
          "output_type": "stream",
          "text": [
            "\r250/1 [============================================================================================================================================================================================================================================================================================================================================================================================================================================================================================================================================================================================================================================================================================================================================================================================================================================================================================================================================================================================================================================================================================================================================================================================================================================================================================================================================================================================================================================================================================================================================================================================================================================================================================================================================================================================================================================================================================================================================================================================================================================================================================================================================================================================================================================================================================================================================================================================================================================================================================================================================================================================================================================================================================================================================================================================================================================================================================================================================================================================================================================================================================================================================================================================================================================================================================================================================================================================================================================================================================================================================================================================================================================================================================================================================================================================================================================================================================================================================================================================================================================================================================================================================================================================================================================================================================================================================================================================================================================================================================================================================================================================================================================================================================================================================================================================================================================================================================================================================================================================================================================================================================================================================================================================================================================================================================================================================================================================================================================================================================================================================================================================================================================================================================================================================================================================================================================================================================================================================================================================================================================================================================================================================================================================================================================================================================================================================================================================================================================================================================================================================================================================================================================================================================================================================================================================================================================================================================================================================================================================================================================================================================================================================================================================================================================================================================================================================================================================================================================================================================================================================================================================================================================================================================================================================================================================================] - 0s 198us/sample - loss: 0.4645 - accuracy: 0.7920\n",
            "Accuracy: 0.792\n"
          ],
          "name": "stdout"
        }
      ]
    },
    {
      "cell_type": "markdown",
      "metadata": {
        "id": "T7kupPNV5AZg",
        "colab_type": "text"
      },
      "source": [
        "# 5. **Neural network with pretrained word embedding**"
      ]
    },
    {
      "cell_type": "markdown",
      "metadata": {
        "id": "F9XmeUM47Z5f",
        "colab_type": "text"
      },
      "source": [
        "**Creating word embedding matrix from pretrained model**"
      ]
    },
    {
      "cell_type": "code",
      "metadata": {
        "id": "x1P4J0BC5I-s",
        "colab_type": "code",
        "colab": {}
      },
      "source": [
        "embeddings_index = {}\n",
        "for i, line in enumerate(open('wiki-news-300d-1M.vec',\"rb\")):\n",
        "    values = line.split()\n",
        "    embeddings_index[values[0]] = np.asarray(values[1:], dtype='float32')\n",
        "\n",
        "\n",
        "# create token-embedding mapping\n",
        "word_index = tokenizer_obj.word_index \n",
        "embedding_matrix = np.zeros((len(word_index) + 1, 300))\n",
        "\n",
        "for word, i in word_index.items():\n",
        "    embedding_vector = embeddings_index.get(word)\n",
        "    if embedding_vector is not None:\n",
        "        embedding_matrix[i] = embedding_vector\n",
        "\n",
        "        \n"
      ],
      "execution_count": 0,
      "outputs": []
    },
    {
      "cell_type": "markdown",
      "metadata": {
        "id": "qYvR6J8c-vgk",
        "colab_type": "text"
      },
      "source": [
        "## 5.1 **LSTM**"
      ]
    },
    {
      "cell_type": "code",
      "metadata": {
        "id": "_cQnQoCu-bME",
        "colab_type": "code",
        "colab": {}
      },
      "source": [
        "# LSTM\n",
        "embedding_dim =100\n",
        "classifier  = Sequential()\n",
        "classifier.add(Embedding(input_dim=vocab_size, \n",
        "                         output_dim=embedding_dim,\n",
        "                         weights=[embedding_matrix],\n",
        "                         input_length=max_length,\n",
        "                         trainable=False))\n",
        "\n",
        "classifier.add(LSTM(100, dropout=0.2, recurrent_dropout=0.2))\n",
        "\n",
        "classifier.add(Dense(10, activation = 'relu'))\n",
        "\n",
        "classifier.add(Dense(1, activation = 'sigmoid'))\n",
        "\n",
        "# model summary\n",
        "classifier.summary()"
      ],
      "execution_count": 0,
      "outputs": []
    },
    {
      "cell_type": "code",
      "metadata": {
        "id": "ZSdfv6OC-7Ls",
        "colab_type": "code",
        "colab": {}
      },
      "source": [
        "# compile the model\n",
        "classifier.compile(loss='binary_crossentropy', \n",
        "              optimizer='adam', \n",
        "              metrics=['accuracy'])\n",
        "# Train the model\n",
        "history = classifier.fit(X_train_pad, np.array(y_train),\n",
        "                    epochs=100,\n",
        "                    verbose=1 ,\n",
        "                    validation_data=(X_test_pad, np.array(y_test)),\n",
        "                    batch_size=X_test_pad.shape[0])"
      ],
      "execution_count": 0,
      "outputs": []
    },
    {
      "cell_type": "code",
      "metadata": {
        "id": "K0qqWz1K-80V",
        "colab_type": "code",
        "colab": {}
      },
      "source": [
        "loss, accuracy = classifier.evaluate(X_test_pad, np.array(y_test), verbose=True)\n",
        "print(\"Accuracy:\", accuracy)"
      ],
      "execution_count": 0,
      "outputs": []
    },
    {
      "cell_type": "markdown",
      "metadata": {
        "id": "rKxxofUP_F1A",
        "colab_type": "text"
      },
      "source": [
        "## 5.2 **GRU**"
      ]
    },
    {
      "cell_type": "code",
      "metadata": {
        "id": "s3ISENis_Ja2",
        "colab_type": "code",
        "colab": {}
      },
      "source": [
        "# GRU\n",
        "embedding_dim =100\n",
        "classifier  = Sequential()\n",
        "classifier.add(Embedding(input_dim=vocab_size, \n",
        "                         output_dim=embedding_dim,\n",
        "                         weights=[embedding_matrix],\n",
        "                         input_length=max_length,\n",
        "                         trainable=False))\n",
        "\n",
        "classifier.add(GRU(100, dropout=0.2, recurrent_dropout=0.2))\n",
        "\n",
        "classifier.add(Dense(10, activation = 'relu'))\n",
        "\n",
        "classifier.add(Dense(1, activation = 'sigmoid'))\n",
        "\n",
        "# model summary\n",
        "classifier.summary()"
      ],
      "execution_count": 0,
      "outputs": []
    },
    {
      "cell_type": "code",
      "metadata": {
        "id": "zqRe33WA_JEN",
        "colab_type": "code",
        "colab": {}
      },
      "source": [
        "# compile the model\n",
        "classifier.compile(loss='binary_crossentropy', \n",
        "              optimizer='adam', \n",
        "              metrics=['accuracy'])\n",
        "# Train the model\n",
        "history = classifier.fit(X_train_pad, np.array(y_train),\n",
        "                    epochs=100,\n",
        "                    verbose=1 ,\n",
        "                    validation_data=(X_test_pad, np.array(y_test)),\n",
        "                    batch_size=X_test_pad.shape[0])"
      ],
      "execution_count": 0,
      "outputs": []
    },
    {
      "cell_type": "code",
      "metadata": {
        "id": "t0kHdqQL_Iyl",
        "colab_type": "code",
        "colab": {}
      },
      "source": [
        "loss, accuracy = classifier.evaluate(X_test_pad, np.array(y_test), verbose=True)\n",
        "print(\"Accuracy:\", accuracy)"
      ],
      "execution_count": 0,
      "outputs": []
    },
    {
      "cell_type": "markdown",
      "metadata": {
        "id": "YiK7Qt9-5Kh3",
        "colab_type": "text"
      },
      "source": [
        "#6. **Using context free word embedding**"
      ]
    },
    {
      "cell_type": "code",
      "metadata": {
        "id": "MWhSAJME5Xzt",
        "colab_type": "code",
        "colab": {}
      },
      "source": [
        ""
      ],
      "execution_count": 0,
      "outputs": []
    }
  ]
}